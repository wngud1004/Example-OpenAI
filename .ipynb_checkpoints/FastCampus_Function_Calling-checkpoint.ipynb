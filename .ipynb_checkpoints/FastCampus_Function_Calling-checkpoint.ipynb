{
 "cells": [
  {
   "cell_type": "code",
   "execution_count": null,
   "metadata": {
    "colab": {
     "base_uri": "https://localhost:8080/"
    },
    "collapsed": true,
    "id": "UY1lxHj7WfD6",
    "outputId": "66273111-bee1-46e0-9399-e9b433d34e1e"
   },
   "outputs": [
    {
     "name": "stdout",
     "output_type": "stream",
     "text": [
      "\u001b[2K     \u001b[90m━━━━━━━━━━━━━━━━━━━━━━━━━━━━━━━━━━━━━━━━\u001b[0m \u001b[32m267.1/267.1 kB\u001b[0m \u001b[31m3.4 MB/s\u001b[0m eta \u001b[36m0:00:00\u001b[0m\n",
      "\u001b[2K     \u001b[90m━━━━━━━━━━━━━━━━━━━━━━━━━━━━━━━━━━━━━━━━\u001b[0m \u001b[32m75.6/75.6 kB\u001b[0m \u001b[31m5.5 MB/s\u001b[0m eta \u001b[36m0:00:00\u001b[0m\n",
      "\u001b[2K     \u001b[90m━━━━━━━━━━━━━━━━━━━━━━━━━━━━━━━━━━━━━━━━\u001b[0m \u001b[32m76.9/76.9 kB\u001b[0m \u001b[31m7.5 MB/s\u001b[0m eta \u001b[36m0:00:00\u001b[0m\n",
      "\u001b[2K     \u001b[90m━━━━━━━━━━━━━━━━━━━━━━━━━━━━━━━━━━━━━━━━\u001b[0m \u001b[32m77.9/77.9 kB\u001b[0m \u001b[31m5.2 MB/s\u001b[0m eta \u001b[36m0:00:00\u001b[0m\n",
      "\u001b[2K     \u001b[90m━━━━━━━━━━━━━━━━━━━━━━━━━━━━━━━━━━━━━━━━\u001b[0m \u001b[32m58.3/58.3 kB\u001b[0m \u001b[31m6.0 MB/s\u001b[0m eta \u001b[36m0:00:00\u001b[0m\n",
      "\u001b[2K     \u001b[90m━━━━━━━━━━━━━━━━━━━━━━━━━━━━━━━━━━━━━━━━\u001b[0m \u001b[32m75.8/75.8 kB\u001b[0m \u001b[31m8.3 MB/s\u001b[0m eta \u001b[36m0:00:00\u001b[0m\n",
      "\u001b[2K     \u001b[90m━━━━━━━━━━━━━━━━━━━━━━━━━━━━━━━━━━━━━━━━\u001b[0m \u001b[32m75.7/75.7 kB\u001b[0m \u001b[31m8.6 MB/s\u001b[0m eta \u001b[36m0:00:00\u001b[0m\n",
      "\u001b[2K     \u001b[90m━━━━━━━━━━━━━━━━━━━━━━━━━━━━━━━━━━━━━━━━\u001b[0m \u001b[32m68.9/68.9 kB\u001b[0m \u001b[31m5.9 MB/s\u001b[0m eta \u001b[36m0:00:00\u001b[0m\n",
      "\u001b[2K     \u001b[90m━━━━━━━━━━━━━━━━━━━━━━━━━━━━━━━━━━━━━━━━\u001b[0m \u001b[32m68.8/68.8 kB\u001b[0m \u001b[31m6.0 MB/s\u001b[0m eta \u001b[36m0:00:00\u001b[0m\n",
      "\u001b[2K     \u001b[90m━━━━━━━━━━━━━━━━━━━━━━━━━━━━━━━━━━━━━━━━\u001b[0m \u001b[32m65.6/65.6 kB\u001b[0m \u001b[31m7.2 MB/s\u001b[0m eta \u001b[36m0:00:00\u001b[0m\n",
      "\u001b[2K     \u001b[90m━━━━━━━━━━━━━━━━━━━━━━━━━━━━━━━━━━━━━━━━\u001b[0m \u001b[32m65.4/65.4 kB\u001b[0m \u001b[31m4.5 MB/s\u001b[0m eta \u001b[36m0:00:00\u001b[0m\n",
      "\u001b[2K     \u001b[90m━━━━━━━━━━━━━━━━━━━━━━━━━━━━━━━━━━━━━━━━\u001b[0m \u001b[32m65.1/65.1 kB\u001b[0m \u001b[31m6.0 MB/s\u001b[0m eta \u001b[36m0:00:00\u001b[0m\n",
      "\u001b[2K     \u001b[90m━━━━━━━━━━━━━━━━━━━━━━━━━━━━━━━━━━━━━━━━\u001b[0m \u001b[32m65.1/65.1 kB\u001b[0m \u001b[31m6.3 MB/s\u001b[0m eta \u001b[36m0:00:00\u001b[0m\n",
      "\u001b[2K     \u001b[90m━━━━━━━━━━━━━━━━━━━━━━━━━━━━━━━━━━━━━━━━\u001b[0m \u001b[32m64.9/64.9 kB\u001b[0m \u001b[31m5.7 MB/s\u001b[0m eta \u001b[36m0:00:00\u001b[0m\n",
      "\u001b[2K     \u001b[90m━━━━━━━━━━━━━━━━━━━━━━━━━━━━━━━━━━━━━━━━\u001b[0m \u001b[32m64.9/64.9 kB\u001b[0m \u001b[31m4.3 MB/s\u001b[0m eta \u001b[36m0:00:00\u001b[0m\n",
      "\u001b[2K     \u001b[90m━━━━━━━━━━━━━━━━━━━━━━━━━━━━━━━━━━━━━━━━\u001b[0m \u001b[32m64.9/64.9 kB\u001b[0m \u001b[31m4.9 MB/s\u001b[0m eta \u001b[36m0:00:00\u001b[0m\n",
      "\u001b[2K     \u001b[90m━━━━━━━━━━━━━━━━━━━━━━━━━━━━━━━━━━━━━━━━\u001b[0m \u001b[32m64.8/64.8 kB\u001b[0m \u001b[31m5.1 MB/s\u001b[0m eta \u001b[36m0:00:00\u001b[0m\n",
      "\u001b[2K     \u001b[90m━━━━━━━━━━━━━━━━━━━━━━━━━━━━━━━━━━━━━━━━\u001b[0m \u001b[32m62.1/62.1 kB\u001b[0m \u001b[31m3.6 MB/s\u001b[0m eta \u001b[36m0:00:00\u001b[0m\n",
      "\u001b[2K     \u001b[90m━━━━━━━━━━━━━━━━━━━━━━━━━━━━━━━━━━━━━━━━\u001b[0m \u001b[32m61.5/61.5 kB\u001b[0m \u001b[31m3.6 MB/s\u001b[0m eta \u001b[36m0:00:00\u001b[0m\n",
      "\u001b[2K     \u001b[90m━━━━━━━━━━━━━━━━━━━━━━━━━━━━━━━━━━━━━━━━\u001b[0m \u001b[32m60.7/60.7 kB\u001b[0m \u001b[31m3.5 MB/s\u001b[0m eta \u001b[36m0:00:00\u001b[0m\n",
      "\u001b[2K     \u001b[90m━━━━━━━━━━━━━━━━━━━━━━━━━━━━━━━━━━━━━━━━\u001b[0m \u001b[32m60.0/60.0 kB\u001b[0m \u001b[31m4.9 MB/s\u001b[0m eta \u001b[36m0:00:00\u001b[0m\n",
      "\u001b[?25h"
     ]
    }
   ],
   "source": [
    "\n",
    "!pip install --upgrade --quiet openai duckpy"
   ]
  },
  {
   "cell_type": "code",
   "execution_count": null,
   "metadata": {
    "id": "RaJf1E7uqLYJ"
   },
   "outputs": [],
   "source": [
    "# https://platform.openai.com/docs/api-reference/chat/create#chat-create-response_format\n",
    "\n",
    "# OpenAI 쓸 수 있도록 키 세팅합니다\n",
    "import os, openai\n",
    "from google.colab import userdata\n",
    "\n",
    "# 키 세팅이 되어 있어야겠지요? 왼쪽의 키 아이콘 눌러서 키 세팅하세요!!\n",
    "os.environ[\"OPENAI_API_KEY\"] = userdata.get('openai')\n",
    "openai.api_key = os.getenv(\"OPENAI_API_KEY\")"
   ]
  },
  {
   "cell_type": "code",
   "execution_count": null,
   "metadata": {
    "colab": {
     "base_uri": "https://localhost:8080/"
    },
    "id": "XQF71F4buhoa",
    "outputId": "d15c5eba-f45d-4eb3-b758-fa6508553cef"
   },
   "outputs": [
    {
     "name": "stdout",
     "output_type": "stream",
     "text": [
      "{\n",
      "    \"색깔 정보\": \"빨간\"\n",
      "}\n"
     ]
    }
   ],
   "source": [
    "# 이전 방식\n",
    "client = openai.OpenAI()\n",
    "\n",
    "content = \"\"\"다음 문장에서 색깔 정보가 있으면 그것을 추출하여 영어로 번역하고 json 포맷으로 만들어서 출력해라.\n",
    "문장: \\\"나는 빨간 사과가 좋더라\\n\n",
    "\"\"\"\n",
    "response = client.chat.completions.create(\n",
    "  model=\"gpt-3.5-turbo-0301\",\n",
    "  messages=[\n",
    "    {\n",
    "      \"role\": \"user\",\n",
    "      \"content\": content\n",
    "    }\n",
    "  ],\n",
    ")\n",
    "print(response.choices[0].message.content)"
   ]
  },
  {
   "cell_type": "code",
   "execution_count": null,
   "metadata": {
    "colab": {
     "base_uri": "https://localhost:8080/"
    },
    "id": "0FCeuoHddioG",
    "outputId": "29ce5920-e579-4e71-fbef-29b59dff95b3"
   },
   "outputs": [
    {
     "name": "stdout",
     "output_type": "stream",
     "text": [
      "{\n",
      "    \"색깔 정보\": \"없음\",\n",
      "    \"영어 번역\": \"In the morning, just give a cup of coffee and say something human.\",\n",
      "}\n"
     ]
    }
   ],
   "source": [
    "# 이전 방식\n",
    "client = openai.OpenAI()\n",
    "\n",
    "content = \"\"\"다음 문장에서 색깔 정보가 있으면 그것을 추출하여 영어로 번역하고 json 포맷으로 만들어서 출력해라.\n",
    "문장: \\\"아침에는 인간적으로 커피 한 잔 주고 뭐라 하자\\n\n",
    "\"\"\"\n",
    "\n",
    "response = client.chat.completions.create(\n",
    "  model=\"gpt-3.5-turbo-0301\",\n",
    "  messages=[\n",
    "    {\n",
    "      \"role\": \"user\",\n",
    "      \"content\": content\n",
    "    }\n",
    "  ],\n",
    ")\n",
    "print(response.choices[0].message.content)"
   ]
  },
  {
   "cell_type": "code",
   "execution_count": null,
   "metadata": {
    "colab": {
     "base_uri": "https://localhost:8080/"
    },
    "id": "FUmQSuy4v0QD",
    "outputId": "8a1e87f5-af8b-4780-81a8-f6abc7b2e681"
   },
   "outputs": [
    {
     "name": "stdout",
     "output_type": "stream",
     "text": [
      "{\n",
      "    \"color\": \"red\"\n",
      "}\n"
     ]
    }
   ],
   "source": [
    "schema = {\n",
    "  \"$schema\": \"http://json-schema.org/draft-07/schema\",\n",
    "  \"type\": \"object\",\n",
    "  \"properties\": {\n",
    "    \"color\": {\n",
    "      \"type\": \"string\"\n",
    "    }\n",
    "  },\n",
    "  \"required\": [\"color\"]\n",
    "}\n",
    "\n",
    "content = f\"\"\"다음 문장에서 색깔 정보가 있으면 그것을 추출하여 영어로 번역하고 json 포맷으로 만들어서 출력해라.\n",
    "               문장: '나는 빨간 사과가 좋더라'\n",
    "               json schema 는 다음과 같다 : {schema}\n",
    "               색깔 정보가 없으면 no color 로 대신해라\n",
    "            \"\"\"\n",
    "\n",
    "# 이전 방식\n",
    "response = client.chat.completions.create(\n",
    "  model=\"gpt-3.5-turbo\",\n",
    "  messages=[\n",
    "    {\n",
    "      \"role\": \"user\",\n",
    "      \"content\": f\"{content}\"\n",
    "    }\n",
    "  ],\n",
    ")\n",
    "\n",
    "print(response.choices[0].message.content)"
   ]
  },
  {
   "cell_type": "markdown",
   "metadata": {
    "id": "ynU2Y69pw1U5"
   },
   "source": [
    "잘못된 출력의 예:\n",
    "\n",
    "- 틀린 아웃풋 (output 텍스트가 포함됨): output: {‘color’: ‘blue’}\n",
    "- 틀린 아웃풋 : 사용자는 노란색을 좋아합니다.\n",
    "- 틀린 아웃풋: 주신 내용에서는 색깔 정보를 찾을 수가 없는데 다른 더 도와드릴 일이 있나요?\n",
    "\n",
    "\n"
   ]
  },
  {
   "cell_type": "code",
   "execution_count": null,
   "metadata": {
    "id": "qX5jqrYVWiKV"
   },
   "outputs": [],
   "source": [
    "# 새로운 방식\n",
    "response = client.chat.completions.create(\n",
    "  model=\"gpt-4\",\n",
    "  messages=[{\"role\": \"user\", \"content\": \"나는 노란색이 좋더라\"}],\n",
    "  functions=[\n",
    "      {\n",
    "          \"name\": \"color_extractor\",\n",
    "          \"description\": \"사용자의 선호 색깔을 찾아서 영어로 번역하고 영어 단어를 출력함\",\n",
    "          \"parameters\": {\n",
    "              \"type\": \"object\",\n",
    "              \"properties\": {\n",
    "                  \"color\": {\n",
    "                      \"type\": \"string\",\n",
    "                      \"description\": \"색깔 정보를 빼내와서 그에 해당하는 영어 단어를 출력함\",\n",
    "                  },\n",
    "              },\n",
    "              \"required\": [\"color\"],\n",
    "          },\n",
    "      }\n",
    "  ]\n",
    ")"
   ]
  },
  {
   "cell_type": "code",
   "execution_count": null,
   "metadata": {
    "colab": {
     "base_uri": "https://localhost:8080/"
    },
    "id": "dq5ogqnVfFqw",
    "outputId": "931877e3-157e-4b44-dfad-f24c9e83645d"
   },
   "outputs": [
    {
     "name": "stdout",
     "output_type": "stream",
     "text": [
      "ChatCompletionMessage(content=None, role='assistant', function_call=FunctionCall(arguments='{\\n  \"color\": \"노란색\"\\n}', name='color_extractor'), tool_calls=None)\n"
     ]
    }
   ],
   "source": [
    "print(response.choices[0].message)"
   ]
  },
  {
   "cell_type": "code",
   "execution_count": null,
   "metadata": {
    "colab": {
     "base_uri": "https://localhost:8080/"
    },
    "id": "vSgUYPS6XToK",
    "outputId": "65c28a34-ab16-4282-8099-7283a8f142a6"
   },
   "outputs": [
    {
     "name": "stdout",
     "output_type": "stream",
     "text": [
      "{\n",
      "  \"color\": \"노란색\"\n",
      "}\n"
     ]
    }
   ],
   "source": [
    "print(response.choices[0].message.function_call.arguments)"
   ]
  },
  {
   "cell_type": "code",
   "execution_count": null,
   "metadata": {
    "colab": {
     "base_uri": "https://localhost:8080/"
    },
    "id": "tdEgVTjjXeZA",
    "outputId": "d32bd2ba-5123-4b97-cdf3-92f19431458c"
   },
   "outputs": [
    {
     "name": "stdout",
     "output_type": "stream",
     "text": [
      "ChatCompletionMessage(content='불쾌함을 느꼈겠네요. 업무 시간 외에는 휴식을 취하거나 개인의 시간을 가질 수 있도록 서로에게 상호 존중을 유지하는 것이 중요합니다. 필요하다면 업무 시간 외에는 비즈니스 메시지에 답변하지 않는 것을 명확히 설정하는 것도 좋을 것 같습니다.', role='assistant', function_call=None, tool_calls=None)\n"
     ]
    }
   ],
   "source": [
    "import os\n",
    "import openai\n",
    "\n",
    "response = client.chat.completions.create(\n",
    "  model=\"gpt-4\",\n",
    "  messages=[{\"role\": \"user\", \"content\": \"퇴근했는데 업무 톡 날리는 양심없는 인간\"}],\n",
    "  functions=[\n",
    "      {\n",
    "          \"name\": \"color_extractor\",\n",
    "          \"description\": \"사용자의 선호 색깔을 찾아서 영어로 번역하고 영어 단어를 출력함\",\n",
    "          \"parameters\": {\n",
    "              \"type\": \"object\",\n",
    "              \"properties\": {\n",
    "                  \"color\": {\n",
    "                      \"type\": \"string\",\n",
    "                      \"description\": \"색깔 정보를 빼내와서 그에 해당하는 영어 단어를 출력함\",\n",
    "                  },\n",
    "              },\n",
    "              \"required\": [\"color\"],\n",
    "          },\n",
    "      }\n",
    "  ]\n",
    ")\n",
    "print(response.choices[0].message)"
   ]
  },
  {
   "cell_type": "code",
   "execution_count": null,
   "metadata": {
    "colab": {
     "base_uri": "https://localhost:8080/"
    },
    "id": "pS5n9zLiZ5OT",
    "outputId": "47f9d393-5c0d-4b14-ac05-0aa629106246"
   },
   "outputs": [
    {
     "name": "stdout",
     "output_type": "stream",
     "text": [
      "ChatCompletionMessage(content=None, role='assistant', function_call=FunctionCall(arguments='{\"quantity1\":3,\"quantity2\":4}', name='apple_add'), tool_calls=None)\n"
     ]
    }
   ],
   "source": [
    "response = client.chat.completions.create(\n",
    "    model=\"gpt-3.5-turbo-1106\",\n",
    "    messages=[{\"role\": \"user\", \"content\": \"아침에 세 개 저녁에 네개\"}],\n",
    "    functions=[\n",
    "        {\n",
    "            \"name\": \"apple_add\",\n",
    "            \"description\": \"사과 숫자를 더함\",\n",
    "            \"parameters\": {\n",
    "                \"type\": \"object\",\n",
    "                \"properties\": {\n",
    "                    \"quantity1\": {\n",
    "                        \"type\": \"integer\",\n",
    "                        \"description\": \"첫번째 숫자\",\n",
    "                    },\n",
    "                    \"quantity2\": {\n",
    "                        \"type\": \"integer\",\n",
    "                        \"description\": \"두번째 숫자\",\n",
    "                    },\n",
    "                },\n",
    "                \"required\": [\"quantity1\", \"quantity2\"],\n",
    "            },\n",
    "        }\n",
    "    ],\n",
    "    function_call=\"auto\",\n",
    ")\n",
    "\n",
    "print(response.choices[0].message)"
   ]
  },
  {
   "cell_type": "code",
   "execution_count": null,
   "metadata": {
    "id": "Acu1FaW8i1Xs"
   },
   "outputs": [],
   "source": [
    "print(response.choices[0].message)"
   ]
  },
  {
   "cell_type": "code",
   "execution_count": null,
   "metadata": {
    "id": "HkePmFQFkoWa"
   },
   "outputs": [],
   "source": [
    "def apple_add(q1, q2):\n",
    "  return str(q1 + q2)\n",
    "\n",
    "message = response.choices[0].message"
   ]
  },
  {
   "cell_type": "code",
   "execution_count": null,
   "metadata": {
    "colab": {
     "base_uri": "https://localhost:8080/"
    },
    "id": "oz2HiOqyarST",
    "outputId": "19d9e20c-397e-4ae4-ee49-5edecf47dfab"
   },
   "outputs": [
    {
     "name": "stdout",
     "output_type": "stream",
     "text": [
      "FunctionCall(arguments='{\"quantity1\":3,\"quantity2\":4}', name='apple_add')\n"
     ]
    }
   ],
   "source": [
    "print(response.choices[0].message.function_call)"
   ]
  },
  {
   "cell_type": "code",
   "execution_count": null,
   "metadata": {
    "colab": {
     "base_uri": "https://localhost:8080/"
    },
    "id": "gTHxLhnJoVrr",
    "outputId": "d174356f-8419-440f-b288-9e2eb271f1e7"
   },
   "outputs": [
    {
     "name": "stdout",
     "output_type": "stream",
     "text": [
      "ChatCompletion(id='chatcmpl-9B8pI5QkcNVCnpx0XJLSGh3uEtfxI', choices=[Choice(finish_reason='function_call', index=0, logprobs=None, message=ChatCompletionMessage(content=None, role='assistant', function_call=FunctionCall(arguments='{\\n  \"query\": \"George Clooney birthday\"\\n}', name='duck_search'), tool_calls=None))], created=1712442564, model='gpt-3.5-turbo-0613', object='chat.completion', system_fingerprint=None, usage=CompletionUsage(completion_tokens=19, prompt_tokens=81, total_tokens=100))\n"
     ]
    }
   ],
   "source": [
    "import openai\n",
    "import json\n",
    "from duckpy import Client\n",
    "import ast\n",
    "\n",
    "duckduckgo_client = Client()\n",
    "\n",
    "def duck_search(query) -> str:\n",
    "    \"\"\"Runs a duckduckgo search\"\"\"\n",
    "    output = duckduckgo_client.search(query)\n",
    "    return str(output)\n",
    "\n",
    "completion = client.chat.completions.create(\n",
    "        model=\"gpt-3.5-turbo-0613\",\n",
    "        temperature=0,\n",
    "        functions=[\n",
    "            {\n",
    "                \"name\": \"duck_search\",\n",
    "                \"description\": \"Used to search online\",\n",
    "                \"parameters\": {\n",
    "                    \"type\": \"object\",\n",
    "                    \"properties\": {\n",
    "                        \"query\": {\n",
    "                            \"type\": \"string\",\n",
    "                            \"description\": \"Translate the Korean content into English input query\",\n",
    "                        },\n",
    "                    },\n",
    "                    \"required\": [\"query\"],\n",
    "                },\n",
    "            }\n",
    "        ],\n",
    "        messages=[\n",
    "            {\"role\": \"system\", \"content\": \"You must use the `duck_search` function to get information.\"},\n",
    "            {\"role\": \"user\", \"content\": \"조지 클루니 생일이 언제야?\"},\n",
    "        ]\n",
    "    )\n",
    "\n",
    "print(completion)"
   ]
  },
  {
   "cell_type": "code",
   "execution_count": null,
   "metadata": {
    "id": "4F2vrhh45E_v"
   },
   "outputs": [],
   "source": []
  },
  {
   "cell_type": "code",
   "execution_count": null,
   "metadata": {
    "colab": {
     "base_uri": "https://localhost:8080/"
    },
    "id": "KsQvFQWSp1Cc",
    "outputId": "a969b455-1340-4b14-aaf7-b30a432444ad"
   },
   "outputs": [
    {
     "name": "stdout",
     "output_type": "stream",
     "text": [
      "[{'title': 'George Clooney - Wikipedia', 'description': 'George Timothy Clooney (born May 6, 1961) is an American actor and filmmaker. He is the recipient of numerous accolades, including a British Academy Film Award, four Golden Globe Awards, and two Academy Awards.Clooney has been honored with the Cecil B. DeMille Award in 2015, the Honorary César in 2017, AFI Life Achievement Award in 2018, and the Kennedy Center Honors in 2022.', 'url': 'm/l/?uddg=https://en.wikipedia.org/wiki/George_Clooney&rut=69e87dc605a7d63c529e9437a280f22ab5ce69fc2b30de443e13379230cb2689'}, {'title': 'George Clooney - Movies, Wife & Age - Biography', 'description': \"Learn about the life and career of actor and director George Clooney, who was born on May 6, 1961, in Kentucky. Find out his roles in ER, Ocean's Eleven, Syriana and more, as well as his marriage to Amal Alamuddin.\", 'url': 'm/l/?uddg=https://www.biography.com/actors/george-clooney&rut=31c14bfc6568325ab00ae9be9b1c814437de877ed7f3fece8d5f118cbce13005'}, {'title': 'George Clooney - Biography - IMDb', 'description': 'George Clooney. Actor: The Ides of March. George Timothy Clooney was born on May 6, 1961, in Lexington, Kentucky, to Nina Bruce (née Warren), a former beauty pageant queen, and Nick Clooney, a former anchorman and television host (who was also the brother of singer Rosemary Clooney). He has Irish, English, and German ancestry. Clooney spent most of his youth in Ohio and Kentucky, and ...', 'url': 'm/l/?uddg=https://www.imdb.com/name/nm0000123/bio/&rut=2941c0311a6d8f2234a7b840a38d6bbec20660a8b43d0558e43cc47eee3a6630'}, {'title': 'George Clooney - IMDb', 'description': 'George Clooney. Actor: The Ides of March. George Timothy Clooney was born on May 6, 1961, in Lexington, Kentucky, to Nina Bruce (née Warren), a former beauty pageant queen, and Nick Clooney, a former anchorman and television host (who was also the brother of singer Rosemary Clooney). He has Irish, English, and German ancestry. Clooney spent most of his youth in Ohio and Kentucky, and ...', 'url': 'm/l/?uddg=https://www.imdb.com/name/nm0000123/&rut=80044bf79225c23e71e712851617ab848534be3aa2cb3d8a2a6b9150ae938976'}, {'title': 'George Clooney - Age, Family, Bio | Famous Birthdays', 'description': 'George Clooney: his birthday, what he did before fame, his family life, fun trivia facts, popularity rankings, and more. ... George Clooney Highlights Popularity Most Popular #1897 Born on May 6 #6 62 Year Old #8 Born in Kentucky #11 First Name George #3 Born in Lexington, KY #2', 'url': 'm/l/?uddg=https://www.famousbirthdays.com/people/george-clooney.html&rut=6f4612441ab77ca97ca12c1aa220632408170ff2ce2fe30538d8158053b698df'}, {'title': 'George Clooney | Biography, TV Shows, Movies, & Facts', 'description': 'George Clooney (born May 6, 1961, Lexington, Kentucky, U.S.) American actor and filmmaker who emerged in the 1990s as a popular leading man, known for his good looks and versatility, and who later became a respected director and screenwriter. George Clooney in ER. Although his family had a show-business background—his father, Nick Clooney ...', 'url': 'm/l/?uddg=https://www.britannica.com/biography/George-Clooney&rut=e88538a54a0bf8b8f996f83bfb1321ee46eef967765c00e427ccf7fc9cedcb9e'}, {'title': 'George Clooney — The Movie Database (TMDB)', 'description': 'George Timothy Clooney (born May 6, 1961) is an American actor and filmmaker. He is the recipient of numerous accolades, including a British Academy Film Award, four Golden Globe Awards, and two Academy Awards, one for his acting and the other as a producer. ... Birthday May 6, 1961 (62 years old) Place of Birth Lexington, Kentucky, USA.', 'url': 'm/l/?uddg=https://www.themoviedb.org/person/1461-george-clooney&rut=bb8b165b98b72cdd114450a8ba60a3be83264385ee6d16823da2396596157b94'}, {'title': 'George Clooney Biography - Facts, Childhood, Family Life & Achievements', 'description': \"Birthday: May 6, 1961 . Born In: Lexington, Kentucky, United States. Advanced Search. George Clooney is an American actor, producer, writer, director, and activist. Since making his acting debut in 1978, he has gone on to become one of Hollywood's hottest A-list leading men. Twice named 'The Sexiest Man Alive' by 'People' magazine ...\", 'url': 'm/l/?uddg=https://www.thefamouspeople.com/profiles/george-timothy-clooney-1486.php&rut=2deab99774af363f6133429fe8e50e55a4474d4b2bb97d93ba0a524097bd4b54'}, {'title': 'George Clooney Celebrated by Fans and Friends on His 60th Birthday', 'description': \"George Clooney's ER co-star Julianna Margulies is among his many fans wishing the actor a happy 60th birthday on social media. Hollywood heartthrob George Clooney is now 60 years old, and fans ...\", 'url': 'm/l/?uddg=https://movieweb.com/george-clooney-60th-birthday/&rut=03ba2ee59f5337afce4b9f27842357537c03722e1f9ff90a41818313e71cc70a'}, {'title': \"George Clooney's birthday (May 6th, 1961) | Days Of The Year\", 'description': \"George Clooney, born May 6, 1961, is a renowned actor and filmmaker. He first captured audiences' attention on television before making a big impact in movies. His charm and skill have made him a favorite worldwide. Clooney is also known for his work off-screen, where he actively supports various causes. This multi-talented star continues to […]\", 'url': 'm/l/?uddg=https://www.daysoftheyear.com/birthdays/george-clooney/&rut=54a02b3f5f4003e2a1aeb43636700de872788cd49c733a5c1c9f581082086675'}, {'title': 'George Clooney on 60th Birthday & Teaching His Kids Charitable Values', 'description': \"George Clooney Talks Working With Friend Ben Affleck for 'The Tender Bar' (Exclusive) ... Clooney will also be reaching his own milestone birthday. So how does he feel about turning 60 on May 6?\", 'url': 'm/l/?uddg=https://www.etonline.com/george-clooney-on-his-milestone-60th-birthday-and-teaching-his-kids-charitable-values-exclusive&rut=8e318eb540e375964b58f463e888d6f1ad038b3dcac03c36b2730755a2a01312'}, {'title': \"A Look Back at Actor George Clooney's Career as he Turns 50 - AARP\", 'description': 'Nick need not have worried. Though George was the nephew of singer Rosemary Clooney (and lived with her family when he first arrived in Los Angeles), he made his own way — working in many a failed TV pilot or series before racking up the successes that would lead to movie stardom. Clooney celebrated his 50th birthday on May 6.', 'url': 'm/l/?uddg=https://www.aarp.org/entertainment/movies-for-grownups/info-05-2011/george-clooney-turns-50.html&rut=7a1dc31c5f73548adcfa8e7fcd0ac51e74c55ec0c4faad0f510e7c705f5e9103'}, {'title': 'George Clooney Birthday - National Today', 'description': 'Learn about the life and achievements of George Clooney, the American actor, director, producer, and screenwriter. Find out his birthday, zodiac sign, net worth, awards, and more surprising facts.', 'url': 'm/l/?uddg=https://nationaltoday.com/birthday/george-clooney/&rut=a1fe72519cc1eac9e90eb2e8a6166c3dcb3a3fa9bf8adbec319bc4f1142a0ffe'}, {'title': '5 George Clooney Movies For His 60th Birthday - Cultured Vultures', 'description': \"In celebration of George Clooney's 60th birthday on May 6th this year, it feels an appropriate time to look back and appreciate the best of his legendary talent. With a career of over forty ...\", 'url': 'm/l/?uddg=https://culturedvultures.com/george-clooney-movies-60th-birthday/&rut=2bddf0e32db075ca0a434ea40e6d415300eac8575ddc543cf5efd847ed38f27a'}, {'title': 'We listen back to an interview with George Clooney, now a Kennedy ... - NPR', 'description': 'Clooney was among the recipients of the 45th Kennedy Center Honors on Sunday. He appeared on Fresh Air in 2005, after he directed, co-wrote and co-starred in Good Night, and Good Luck.', 'url': 'm/l/?uddg=https://www.npr.org/2022/12/09/1141861528/we-listen-back-to-an-interview-with-george-clooney-now-a-kennedy-center-honoree&rut=014cad012bec6466a9b8ab75bff1424f5894ef5837c58a176b621093a54b7db8'}, {'title': \"George Clooney Says Turning 60 Was a 'Bummer' - Prevention\", 'description': 'George Clooney celebrated his 60th birthday earlier this year—but he\\'s not exactly thrilled about it. \"Turning 60 is a bummer. But it\\'s that or dead,\" The Tender Bar director said this week.', 'url': 'm/l/?uddg=https://www.prevention.com/life/a38388880/george-clooney-on-turning-60/&rut=a95c2f985a11b3bc71c876c91f2d32099baebf53610de259c247118e0a22f483'}, {'title': '62 photos of George Clooney through the years - Entertainment Weekly', 'description': 'See 62 photos of the actor from his early days to his latest projects. George Clooney was born on May 6, 1961, in Lexington, Ky.', 'url': 'm/l/?uddg=https://ew.com/gallery/george-clooney-photos/&rut=2c072e14c2f159dd8dd21e012681d985b8f45b9d94572117250150be0317e560'}, {'title': 'George Clooney at 62: A Look At His Memorable Relationships ... - YouTube', 'description': \"Join us as we celebrate George Clooney's 62nd birthday and take a journey through his illustrious career. As one of Hollywood's most iconic leading men and h...\", 'url': 'm/l/?uddg=https://www.youtube.com/watch?v=Pg3fHFiEq9s&rut=00ad5414e75d7ae15e98c7744bae9bb4a00f10991e7b4a026d9f3fb1c8eccb67'}, {'title': 'George Clooney Gets Sweet Birthday Tribute from ER Costar Julianna ...', 'description': 'George Clooney got some birthday love from his ER costar Julianna Margulies! The actress, 53, shared a throwback photo of herself and Clooney on Instagram Wednesday to commemorate his 59th birthday.', 'url': 'm/l/?uddg=https://people.com/movies/george-clooney-julianna-margulies-er-birthday-tribute/&rut=2d1fe65f208767c2e247d83a54101b7a48c6f9de35b53fdca3a43da286d910e1'}, {'title': \"George Clooney Celebrates Amal's 40th Birthday - People.com\", 'description': \"New parents George Clooney, 56, and Amal Clooney celebrated the lawyer's 40th birthday with a quick trip to Big Sur over the weekend. The two were seen flying out of L.A. on Saturday, the day of ...\", 'url': 'm/l/?uddg=https://people.com/movies/amals-big-40-george-clooney-celebrates-wifes-birthday-on-24-hour-getaway/&rut=e55830d512e702cf18823276acbaabc59dba971290dd3bfecd60da55502f8b58'}, {'title': 'See the Furry Gift George Clooney Gifted Wife Amal for Her Birthday', 'description': 'In photos obtained by DailyMail, we can see Amal holding her gift from George: a Saint Bernard puppy named Nelson! George & Amal Clooney May Not Be Getting a Fairytale Ending With Their $15 ...', 'url': 'm/l/?uddg=https://www.sheknows.com/entertainment/articles/2954897/george-clooney-wife-amal-gift-dog/&rut=73fe06b99528f7872970b5347b39cdf8638d190143357b0686a54bc17effea5c'}, {'title': \"George and Amal Clooney's twins doted upon following 6th birthday as ...\", 'description': 'George and Amal Clooney dote on twins as family enjoys vacation following 6th birthday The A-list couple never share photos of their son and daughter 29 Jul 2023', 'url': 'm/l/?uddg=https://www.hellomagazine.com/healthandbeauty/mother-and-baby/498836/george-clooney-amal-clooney-dote-on-twins-during-family-vacation-following-6-birthday-photos/&rut=83407e903127fbe5b315ec7a3d5f789f20b4b6fd759d2851299fdd4bb02c0cee'}, {'title': 'Gloucestershire baker commissioned to make birthday cake for George Clooney', 'description': 'A baker who was sworn to secrecy for two years after making a birthday cake for an A-list celebrity has revealed it was for George Clooney. Holly Tait, who owns Project Cakery in Gloucestershire ...', 'url': 'm/l/?uddg=https://www.bbc.com/news/uk-england-gloucestershire-67933468&rut=0a758bb42ed38fe92c4847824554d05c800411cb7744e5fa15c92ed7d55d0848'}, {'title': \"Danny Devito on Reprising 'Batman' Role with Arnold Schwarzenegger ...\", 'description': \"He starred opposite George Clooney as Batman in that film. ... 10 Things Director Recalls Heath Ledger's 'Old Soul' amid Late Actor's 45th Birthday (Exclusive)\", 'url': 'm/l/?uddg=https://people.com/danny-devito-on-reprising-batman-role-with-arnold-schwarzenegger-exclusive-8627930&rut=c60cb89bacf1e8574a3cbcdb63ba146bc0a0541eef07d6669b654b5a18591ba9'}, {'title': 'Carol Burnett wants Bradley Cooper for her 91st birthday - New York Post', 'description': \"Published March 26, 2024, 8:55 a.m. ET. Carol Burnett doesn't want a birthday cake or presents when she turns 91 on April 26. All the Emmy-winning writer, 90, desires is time with Bradley Cooper ...\", 'url': 'm/l/?uddg=https://nypost.com/2024/03/26/entertainment/carol-burnett-wants-bradley-cooper-for-her-91st-birthday/&rut=cd2225bd3e1ddfbde9d579678e8a6bc5f831bbfc474f7707b9e9c1b7611e843f'}]\n",
      "조지 클루니(George Clooney)의 생일은 1961년 5월 6일입니다.\n"
     ]
    }
   ],
   "source": [
    "message = completion.choices[0].message\n",
    "if message.function_call:\n",
    "    function_name = message.function_call.name\n",
    "    args = ast.literal_eval(message.function_call.arguments)\n",
    "    function_response = duck_search(\n",
    "        query=args.get(\"query\"),\n",
    "    )\n",
    "    print(function_response)\n",
    "    completion_final = client.chat.completions.create(\n",
    "        model=\"gpt-3.5-turbo-16k\",\n",
    "        messages=[\n",
    "            {\"role\": \"user\", \"content\": \"조지 클루니 생일이 언제야?\"},\n",
    "            message,\n",
    "            {\n",
    "                \"role\": \"function\",\n",
    "                \"name\": function_name,\n",
    "                \"content\": function_response,\n",
    "            },\n",
    "        ],\n",
    "    )\n",
    "    print(completion_final.choices[0].message.content)"
   ]
  },
  {
   "cell_type": "code",
   "execution_count": null,
   "metadata": {
    "colab": {
     "base_uri": "https://localhost:8080/"
    },
    "id": "5x4JC1Lg3rMd",
    "outputId": "5f4be2fc-8e29-4aa5-a69c-342c07595e9e"
   },
   "outputs": [
    {
     "name": "stdout",
     "output_type": "stream",
     "text": [
      "{\n",
      "  \"response_up\": \"네, 런던 날씨는 현재 좋지 않아요.\",\n",
      "  \"response_down\": \"응, 런던 날씨가 안 좋아.\"\n",
      "}\n"
     ]
    }
   ],
   "source": [
    "example_user_input = \"런던 날씨가 안 좋다면서?\"\n",
    "\n",
    "completion = client.chat.completions.create(\n",
    "    model=\"gpt-3.5-turbo-0613\",\n",
    "    messages=[{\"role\": \"user\", \"content\": example_user_input}],\n",
    "    functions=[\n",
    "      {\n",
    "          \"name\": \"get_different_responses\",\n",
    "          \"description\": \"답변을 여러가지 말투로 하기\",\n",
    "          \"parameters\": {\n",
    "              \"type\": \"object\",\n",
    "              \"properties\": {\n",
    "                  \"response_up\": {\n",
    "                      \"type\": \"string\",\n",
    "                      \"description\": \"답변을 높임말로 바꿈\",\n",
    "                  },\n",
    "                  \"response_down\": {\n",
    "                      \"type\": \"string\",\n",
    "                      \"description\": \"답변을 반말로 바꿈\",\n",
    "                  }\n",
    "              },\n",
    "              \"required\": [\"response_up\", \"response_down\"],\n",
    "          },\n",
    "      }\n",
    "    ],\n",
    "    function_call={\"name\": \"get_different_responses\"},\n",
    ")\n",
    "\n",
    "reply_content = completion.choices[0].message\n",
    "print(reply_content.function_call.arguments)"
   ]
  },
  {
   "cell_type": "code",
   "execution_count": null,
   "metadata": {
    "colab": {
     "base_uri": "https://localhost:8080/"
    },
    "id": "3V_vzEPa7hb9",
    "outputId": "5a4800ca-008b-489a-edfd-d23dfaab534f"
   },
   "outputs": [
    {
     "name": "stdout",
     "output_type": "stream",
     "text": [
      "{\n",
      "\"commands\": [\n",
      "\"sudo adduser new_user\",\n",
      "\"sudo chown new_user /usr/arb\",\n",
      "\"sudo chmod 700 /usr/arb\"\n",
      "]\n",
      "}\n"
     ]
    }
   ],
   "source": [
    "\n",
    "\n",
    "example_user_input = \\\n",
    "\"\"\"레드햇 리눅스에서 새로운 사용자 만들고\n",
    "그 사용자에게 /usr/arb 폴더 읽기 쓰기 사용권한을 주려면 어떻게 해야 해?\"\"\"\n",
    "\n",
    "completion = client.chat.completions.create(\n",
    "    model=\"gpt-3.5-turbo-0613\",\n",
    "    messages=[{\"role\": \"user\", \"content\": example_user_input}],\n",
    "    functions=[\n",
    "      {\n",
    "        \"name\": \"get_commands\",\n",
    "        \"description\": \"Get a list of bash commands on an RedHat machine\",\n",
    "        \"parameters\": {\n",
    "            \"type\": \"object\",\n",
    "            \"properties\": {\n",
    "                \"commands\": {\n",
    "                    \"type\": \"array\",\n",
    "                    \"items\": {\n",
    "                        \"type\": \"string\",\n",
    "                        \"description\": \"A terminal command string\"\n",
    "                    },\n",
    "                    \"description\": \"List of terminal command strings to execute\"\n",
    "                }\n",
    "            },\n",
    "            \"required\": [\"commands\"]\n",
    "        }\n",
    "      },\n",
    "    ],\n",
    "    function_call={\"name\": \"get_commands\"},\n",
    ")\n",
    "print(completion.choices[0].message.function_call.arguments)\n"
   ]
  },
  {
   "cell_type": "code",
   "execution_count": null,
   "metadata": {
    "colab": {
     "base_uri": "https://localhost:8080/"
    },
    "id": "YnPsr7Md7yeq",
    "outputId": "a9a0e4d1-3790-4845-b11e-cc6e68df993c"
   },
   "outputs": [
    {
     "name": "stdout",
     "output_type": "stream",
     "text": [
      "아래는 \"세상은 넓고 시간은 없다\"를 함께 사용할 수 있는 레시피입니다:\n",
      "\n",
      "1. 볶음밥: \"세상은 넓고 시간은 없다\"를 볶아서 볶음밥으로 만들어 먹는 것이 가능합니다. \"세상은 넓고 시간은 없다\"를 적당한 양으로 익혀주고, 밥과 함께 볶아서 볶음밥을 만들어 드세요.\n",
      "\n",
      "풀 버전의 레시피를 제공할 수 있도록 하겠습니다:\n",
      "\n",
      "레시피: 세상은 넓고 시간은 없다 볶음밥\n",
      "재료:\n",
      "- \"세상은 넓고 시간은 없다\" (적당한 양)\n",
      "- 밥 (적당한 양)\n",
      "- 볶음용 식용유\n",
      "- 소금 (맛에 따라 조절)\n",
      "\n",
      "조리 절차:\n",
      "1. \"세상은 넓고 시간은 없다\"를 적당히 볶아둡니다.\n",
      "2. 볶음팬에 식용유를 데워줍니다.\n",
      "3. 밥을 볶음팬에 넣고 볶아줍니다.\n",
      "4. \"세상은 넓고 시간은 없다\"를 넣고 잘 섞어줍니다.\n",
      "5. 맛에 따라 소금으로 간을 조절해줍니다.\n",
      "6. 볶음밥이 완성되었습니다. 바로 먹거나 다른 요리와 함께 즐기세요.\n",
      "\n",
      "이것은 \"세상은 넓고 시간은 없다\"를 활용한 간단한 한 끼 식사입니다. 다른 레시피로 활용하실 수도 있으니 참고해주세요. 즐거운 요리 시간 되시길 바랍니다!\n"
     ]
    }
   ],
   "source": [
    "import ast\n",
    "\n",
    "example_user_input = \"주말에 친구들 오는데 뭐 먹지? 소고기랑 감자랑 밀가루 있어\"\n",
    "\n",
    "def get_recipes_with_ingredients(ingredients):\n",
    "  return f\"{ingredients} 를 다 볶아서 볶음밥으로 만들어 먹읍시다!\"\n",
    "\n",
    "completion =  client.chat.completions.create(\n",
    "    model=\"gpt-3.5-turbo-0613\",\n",
    "    messages=[{\"role\": \"user\", \"content\": example_user_input}],\n",
    "    functions=[\n",
    "      {\n",
    "          \"name\": \"get_recipes_with_ingredients\",\n",
    "          \"description\": \"주어진 텍스트에서 음식을 만들 수 있는 재료 이름을 뽑아낸다\",\n",
    "          \"parameters\": {\n",
    "              \"type\": \"object\",\n",
    "              \"properties\": {\n",
    "                  \"ingredients\": {\n",
    "                      \"type\": \"string\",\n",
    "                      \"description\": \"음식 재료\",\n",
    "                  },\n",
    "              },\n",
    "              \"required\": [\"ingredients\"],\n",
    "          },\n",
    "      }\n",
    "    ],\n",
    "    function_call={\"name\": \"get_recipes_with_ingredients\"},\n",
    ")\n",
    "\n",
    "\n",
    "message = completion.choices[0].message\n",
    "if message.function_call:\n",
    "    function_name = message.function_call.name\n",
    "    args = ast.literal_eval(message.function_call.arguments)\n",
    "    function_response = (\n",
    "          get_recipes_with_ingredients(ingredients=args.get(\"ingredients\"))),\n",
    "    completion_final = client.chat.completions.create(\n",
    "        model=\"gpt-3.5-turbo-0613\",\n",
    "        messages=[\n",
    "            {\"role\": \"user\", \"content\": example_user_input},\n",
    "            message,\n",
    "            {\n",
    "                \"role\": \"function\",\n",
    "                \"name\": function_name,\n",
    "                \"content\": str(function_response),\n",
    "            },\n",
    "        ],\n",
    "    )\n",
    "    print(completion_final.choices[0].message.content)"
   ]
  },
  {
   "cell_type": "code",
   "execution_count": null,
   "metadata": {
    "colab": {
     "base_uri": "https://localhost:8080/"
    },
    "id": "wUJnKxoY8tAY",
    "outputId": "d92ed423-d16b-40fb-da68-874e1104c876"
   },
   "outputs": [
    {
     "name": "stdout",
     "output_type": "stream",
     "text": [
      "{\n",
      "  \"ingredients\": \"소고기, 감자, 밀가루\"\n",
      "}\n"
     ]
    }
   ],
   "source": [
    "print(completion.choices[0].message.function_call.arguments)"
   ]
  },
  {
   "cell_type": "code",
   "execution_count": null,
   "metadata": {
    "colab": {
     "base_uri": "https://localhost:8080/"
    },
    "id": "BB9seMVg84x6",
    "outputId": "bdf4af42-606c-4945-ed9d-9b814177365e"
   },
   "outputs": [
    {
     "name": "stdout",
     "output_type": "stream",
     "text": [
      "주말에 친구들이 오면 소고기, 감자, 밀가루를 이용해서 볶음밥을 만들어 먹을 수 있습니다. 소고기와 감자를\n",
      "다 볶아서 볶음밥으로 만들면 맛있는 식사가 될 것입니다.\n",
      "('주말에 친구들이 오면 소고기, 감자, 밀가루를 이용해서 볶음밥을 만들어 먹을 수 있습니다. 소고기와 감자를 다 볶아서 볶음밥으로 만들면 '\n",
      " '맛있는 식사가 될 것입니다.')\n"
     ]
    }
   ],
   "source": [
    "import textwrap as tr\n",
    "my_str = completion_final.choices[0].message.content\n",
    "lines = tr.wrap(my_str, width=60)\n",
    "[print(x) for x in lines]\n",
    "\n",
    "pprint(completion_final.choices[0].message.content)"
   ]
  },
  {
   "cell_type": "code",
   "execution_count": null,
   "metadata": {
    "id": "nLF1DBhylQIX"
   },
   "outputs": [],
   "source": []
  }
 ],
 "metadata": {
  "colab": {
   "provenance": []
  },
  "kernelspec": {
   "display_name": "Python 3",
   "name": "python3"
  },
  "language_info": {
   "name": "python"
  }
 },
 "nbformat": 4,
 "nbformat_minor": 0
}
