{
 "cells": [
  {
   "cell_type": "markdown",
   "metadata": {
    "id": "uBL4_OCb89-k"
   },
   "source": [
    "## langchain, duckduckgo 설치\n",
    "\n",
    "---\n",
    "\n"
   ]
  },
  {
   "cell_type": "code",
   "execution_count": null,
   "metadata": {
    "collapsed": true,
    "id": "G4YyM2l3z-KF"
   },
   "outputs": [],
   "source": [
    "!pip install --upgrade --quiet  duckduckgo-search openai langchain_community"
   ]
  },
  {
   "cell_type": "markdown",
   "metadata": {
    "id": "cQAXBGLuIeGa"
   },
   "source": [
    "# 웹 검색"
   ]
  },
  {
   "cell_type": "code",
   "execution_count": null,
   "metadata": {
    "colab": {
     "base_uri": "https://localhost:8080/",
     "height": 174
    },
    "id": "vRjWQEzW0x-U",
    "outputId": "ebe7d2fa-92b2-423d-a002-64ab4f7005d5"
   },
   "outputs": [
    {
     "data": {
      "application/vnd.google.colaboratory.intrinsic+json": {
       "type": "string"
      },
      "text/plain": [
       "\"Barack Obama—with his wife, Michelle—being sworn in as the 44th president of the United States, January 20, 2009. Key events in the life of Barack Obama. Barack Obama (born August 4, 1961, Honolulu, Hawaii, U.S.) is the 44th president of the United States (2009-17) and the first African American to hold the office. Barack Obama was the 44 th president of the United States and the first Black commander-in-chief. He served two terms, from 2009 until 2017. He served two terms, from 2009 until 2017. Barack and Michelle Obama's daughters, Malia and Sasha, grew up in the White House from 2009 to 2017. To most of the world, Barack and Michelle Obama are the former president and first lady of ... Michelle Obama (born January 17, 1964, Chicago, Illinois, U.S.) American first lady (2009-17), the wife of Barack Obama, 44th president of the United States.She was the first African American first lady.. Michelle Robinson, who grew up on Chicago's South Side, was the daughter of Marian, a homemaker, and Frasier Robinson, a worker in the city's water-purification plant. Born on November 29, 1945, Stanley Ann Dunham gave birth to Barack Obama when she was 18 years old and became a prominent anthropologist. A pioneering anthropologist who worked in Indonesia, Barack Obama's mother was the woman who first inspired him to become a community organizer. ... From 1986 to 1988, this took her to Pakistan, where she ...\""
      ]
     },
     "execution_count": 20,
     "metadata": {},
     "output_type": "execute_result"
    }
   ],
   "source": [
    "# DuckDuckGo 를 이용한 검색 툴\n",
    "from langchain_community.tools import DuckDuckGoSearchRun\n",
    "search = DuckDuckGoSearchRun()\n",
    "search.run(\"Obama's first name?\")"
   ]
  },
  {
   "cell_type": "code",
   "execution_count": null,
   "metadata": {
    "colab": {
     "base_uri": "https://localhost:8080/",
     "height": 209
    },
    "id": "jWCwzWvw7MkC",
    "outputId": "eb05b46e-84fd-46e5-9aeb-c8dcbb45893c"
   },
   "outputs": [
    {
     "data": {
      "application/vnd.google.colaboratory.intrinsic+json": {
       "type": "string"
      },
      "text/plain": [
       "'이경록(李慶祿)과 이순신(李舜臣) 등을 잡아올 것에 대한 비변사의 공사(公事) ... 조선의 장군이 침략군의 장군에게 증오를 갖는 것은 당연한 일이고 명나라 장수들이 조선에서 보여준 각종 범죄는 비난받기에 충분했다. 아무튼 둘 사이의 영향인지 원균은 충청 ... 난중일기는 이순신 장군이 임진왜란 당시에 1592년 1월 1일부터 1598년 11워 17일까지 쓴 7년간의 일기이며 총 8권으로 구성되어 있습니다. 전쟁중에 쓰인 일기이기때문에 전란의 상황과 개인적인 생각, 군사 기밀 등이 상세히 기록되어 있습니다. 이순신 장군 일대기 연표 연도 나이 행적 국내 국외 1545년 1세 3월 8일(양력 4월 28일)새벽, 서울 마르내골(건청동 : 안형동)에서 태어나다 8월 을사사화가 일어남 10세 전/후 아산 백암리 외가 이사 1566년 22세 10월 본격적으로 무예를 시작 1567년 23세 2월 장남 회 득남 ... 이순신 장군은 조선시대의 장군으로 임진왜란에서 삼도수군통제사로 수군을 이끌고 전투마다 승리를 거두어 왜군을 무리 치는데 큰 공을 세웠다. 이순신장군 어린 시절 이순신은 1545년 3월 8일(음) 서울 건천동 (현, 중구 인현동)에서 태어났다. 자는 여해, 시호는 충모다. 본관은 덕수로 아버지는 ... 수적으로 열세인 일본 함대와 맞닥뜨린 이순신 장군은 모든 역경을 딛고 승리를 거두었습니다. 이순신은 탁월한 전술적 능력을 발휘하여 아군 함선은 단 한 척도 잃지 않고 적 함선 31척을 침몰시키며 대승을 거두었습니다. 이 영웅적인 승리는 임박한 ...'"
      ]
     },
     "execution_count": 21,
     "metadata": {},
     "output_type": "execute_result"
    }
   ],
   "source": [
    "search.run(\"이순신 장군이 언제 태어나셨어?\")"
   ]
  },
  {
   "cell_type": "markdown",
   "metadata": {
    "id": "X238EtepImcj"
   },
   "source": [
    "# 유튜브 영상 검색"
   ]
  },
  {
   "cell_type": "code",
   "execution_count": null,
   "metadata": {
    "id": "J7gSAkzkLwmL"
   },
   "outputs": [],
   "source": [
    "!pip install --upgrade --quiet youtube_search"
   ]
  },
  {
   "cell_type": "code",
   "execution_count": null,
   "metadata": {
    "colab": {
     "base_uri": "https://localhost:8080/",
     "height": 53
    },
    "id": "9loaU7_yLpr6",
    "outputId": "180e4981-4618-4752-f8f2-ef6b8d8da94e"
   },
   "outputs": [
    {
     "data": {
      "application/vnd.google.colaboratory.intrinsic+json": {
       "type": "string"
      },
      "text/plain": [
       "\"['https://www.youtube.com/watch?v=sxAuuHK8WqQ&pp=ygUM67mE7Yq47L2U7J24', 'https://www.youtube.com/watch?v=48ud7O5-TrI&pp=ygUM67mE7Yq47L2U7J24']\""
      ]
     },
     "execution_count": 23,
     "metadata": {},
     "output_type": "execute_result"
    }
   ],
   "source": [
    "from langchain_community.tools import YouTubeSearchTool\n",
    "tool = YouTubeSearchTool()\n",
    "tool.run(\"비트코인\")"
   ]
  },
  {
   "cell_type": "code",
   "execution_count": null,
   "metadata": {
    "colab": {
     "base_uri": "https://localhost:8080/"
    },
    "id": "0OZDkwfgL4zw",
    "outputId": "a0702ecd-4bf9-409a-f455-34922c2bdf4a"
   },
   "outputs": [
    {
     "name": "stdout",
     "output_type": "stream",
     "text": [
      "\u001b[2K     \u001b[90m━━━━━━━━━━━━━━━━━━━━━━━━━━━━━━━━━━━━━━━━\u001b[0m \u001b[32m57.6/57.6 kB\u001b[0m \u001b[31m991.1 kB/s\u001b[0m eta \u001b[36m0:00:00\u001b[0m\n",
      "\u001b[2K     \u001b[90m━━━━━━━━━━━━━━━━━━━━━━━━━━━━━━━━━━━━━━━━\u001b[0m \u001b[32m27.0/27.0 MB\u001b[0m \u001b[31m20.0 MB/s\u001b[0m eta \u001b[36m0:00:00\u001b[0m\n",
      "\u001b[2K     \u001b[90m━━━━━━━━━━━━━━━━━━━━━━━━━━━━━━━━━━━━━━━━\u001b[0m \u001b[32m1.8/1.8 MB\u001b[0m \u001b[31m44.5 MB/s\u001b[0m eta \u001b[36m0:00:00\u001b[0m\n",
      "\u001b[2K     \u001b[90m━━━━━━━━━━━━━━━━━━━━━━━━━━━━━━━━━━━━━━━━\u001b[0m \u001b[32m817.7/817.7 kB\u001b[0m \u001b[31m36.5 MB/s\u001b[0m eta \u001b[36m0:00:00\u001b[0m\n",
      "\u001b[2K     \u001b[90m━━━━━━━━━━━━━━━━━━━━━━━━━━━━━━━━━━━━━━━━\u001b[0m \u001b[32m1.9/1.9 MB\u001b[0m \u001b[31m24.7 MB/s\u001b[0m eta \u001b[36m0:00:00\u001b[0m\n",
      "\u001b[2K     \u001b[90m━━━━━━━━━━━━━━━━━━━━━━━━━━━━━━━━━━━━━━━━\u001b[0m \u001b[32m299.3/299.3 kB\u001b[0m \u001b[31m3.9 MB/s\u001b[0m eta \u001b[36m0:00:00\u001b[0m\n",
      "\u001b[2K     \u001b[90m━━━━━━━━━━━━━━━━━━━━━━━━━━━━━━━━━━━━━━━━\u001b[0m \u001b[32m116.0/116.0 kB\u001b[0m \u001b[31m2.7 MB/s\u001b[0m eta \u001b[36m0:00:00\u001b[0m\n",
      "\u001b[2K     \u001b[90m━━━━━━━━━━━━━━━━━━━━━━━━━━━━━━━━━━━━━━━━\u001b[0m \u001b[32m311.6/311.6 kB\u001b[0m \u001b[31m12.1 MB/s\u001b[0m eta \u001b[36m0:00:00\u001b[0m\n",
      "\u001b[2K     \u001b[90m━━━━━━━━━━━━━━━━━━━━━━━━━━━━━━━━━━━━━━━━\u001b[0m \u001b[32m49.4/49.4 kB\u001b[0m \u001b[31m3.2 MB/s\u001b[0m eta \u001b[36m0:00:00\u001b[0m\n",
      "\u001b[2K     \u001b[90m━━━━━━━━━━━━━━━━━━━━━━━━━━━━━━━━━━━━━━━━\u001b[0m \u001b[32m53.0/53.0 kB\u001b[0m \u001b[31m2.2 MB/s\u001b[0m eta \u001b[36m0:00:00\u001b[0m\n",
      "\u001b[2K     \u001b[90m━━━━━━━━━━━━━━━━━━━━━━━━━━━━━━━━━━━━━━━━\u001b[0m \u001b[32m141.1/141.1 kB\u001b[0m \u001b[31m4.2 MB/s\u001b[0m eta \u001b[36m0:00:00\u001b[0m\n",
      "\u001b[2K     \u001b[90m━━━━━━━━━━━━━━━━━━━━━━━━━━━━━━━━━━━━━━━━\u001b[0m \u001b[32m75.6/75.6 kB\u001b[0m \u001b[31m3.1 MB/s\u001b[0m eta \u001b[36m0:00:00\u001b[0m\n",
      "\u001b[2K     \u001b[90m━━━━━━━━━━━━━━━━━━━━━━━━━━━━━━━━━━━━━━━━\u001b[0m \u001b[32m77.9/77.9 kB\u001b[0m \u001b[31m2.4 MB/s\u001b[0m eta \u001b[36m0:00:00\u001b[0m\n",
      "\u001b[2K     \u001b[90m━━━━━━━━━━━━━━━━━━━━━━━━━━━━━━━━━━━━━━━━\u001b[0m \u001b[32m58.3/58.3 kB\u001b[0m \u001b[31m1.7 MB/s\u001b[0m eta \u001b[36m0:00:00\u001b[0m\n",
      "\u001b[?25h\u001b[31mERROR: pip's dependency resolver does not currently take into account all the packages that are installed. This behaviour is the source of the following dependency conflicts.\n",
      "pandas-gbq 0.19.2 requires google-auth-oauthlib>=0.7.0, but you have google-auth-oauthlib 0.4.6 which is incompatible.\n",
      "tf-keras 2.15.1 requires tensorflow<2.16,>=2.15, but you have tensorflow 2.12.0 which is incompatible.\u001b[0m\u001b[31m\n",
      "\u001b[0m"
     ]
    }
   ],
   "source": [
    "!pip install --upgrade --quiet youtube-transcript-api pytube faiss-cpu tiktoken langchain langchain_openai"
   ]
  },
  {
   "cell_type": "code",
   "execution_count": null,
   "metadata": {
    "colab": {
     "base_uri": "https://localhost:8080/"
    },
    "id": "gpile7Cd2M9d",
    "outputId": "658b65ca-41dd-4daf-9adc-4046af1504fb"
   },
   "outputs": [
    {
     "name": "stderr",
     "output_type": "stream",
     "text": [
      "/usr/local/lib/python3.10/dist-packages/langchain_core/_api/deprecation.py:119: LangChainDeprecationWarning: The class `OpenAIEmbeddings` was deprecated in LangChain 0.0.9 and will be removed in 0.2.0. An updated version of the class exists in the langchain-openai package and should be used instead. To use it run `pip install -U langchain-openai` and import as `from langchain_openai import OpenAIEmbeddings`.\n",
      "  warn_deprecated(\n",
      "/usr/local/lib/python3.10/dist-packages/langchain_core/_api/deprecation.py:119: LangChainDeprecationWarning: The method `Chain.__call__` was deprecated in langchain 0.1.0 and will be removed in 0.2.0. Use invoke instead.\n",
      "  warn_deprecated(\n"
     ]
    },
    {
     "name": "stdout",
     "output_type": "stream",
     "text": [
      "('The benefits of cold showers are still a gray area as there is not a lot of '\n",
      " 'strong scientific evidence to support them. However, a 2016 study published '\n",
      " 'in PLOS One suggested that a quick cold shower in the morning could reduce '\n",
      " 'the number of sick days taken from work. Subjects who took a cold shower '\n",
      " 'called into work 29% less than those who took a warm shower. However, it is '\n",
      " 'unclear why this happened as no biological markers were measured. Some '\n",
      " 'participants also reported an increase in energy. Another claim is that cold '\n",
      " 'showers can boost mood, but the evidence is weak and mostly anecdotal. It '\n",
      " 'can potentially activate the sympathetic nervous system, which could '\n",
      " 'stimulate the release of endorphins and elevate your mood. However, more '\n",
      " 'research is needed to verify these claims.')\n"
     ]
    }
   ],
   "source": [
    "# From: https://towardsdatascience.com/getting-started-with-langchain-a-beginners-guide-to-building-llm-powered-applications-95fc8898732c\n",
    "\n",
    "from langchain.document_loaders import YoutubeLoader # 유튜브 로더\n",
    "from langchain.embeddings import OpenAIEmbeddings    # 임베딩용\n",
    "from langchain.vectorstores import FAISS             # 벡터 스토어 종류\n",
    "from langchain.chains import RetrievalQA             # 질문 답변 툴\n",
    "from langchain_openai import ChatOpenAI              # OpenAI 쓸 수 있는 툴\n",
    "from pprint import pprint                            # 아웃풋 프린트 툴 (필요 없음)\n",
    "\n",
    "# OpenAI 키 세팅\n",
    "import os, openai\n",
    "from google.colab import userdata\n",
    "\n",
    "os.environ[\"OPENAI_API_KEY\"] = userdata.get('openai')\n",
    "openai.api_key = os.getenv(\"OPENAI_API_KEY\")\n",
    "\n",
    "# 임베딩\n",
    "embeddings = OpenAIEmbeddings()\n",
    "\n",
    "# 유튜브 링크에서 자막 내용 가지고 옴\n",
    "loader = YoutubeLoader.from_youtube_url(\"https://www.youtube.com/watch?v=HsonXuJs8-s\")\n",
    "documents = loader.load()\n",
    "\n",
    "# 벡터스토어 생성\n",
    "db = FAISS.from_documents(documents, embeddings)\n",
    "retriever = db.as_retriever()\n",
    "\n",
    "# 사용할 언어모델 선정\n",
    "llm = ChatOpenAI(model_name=\"gpt-4\")\n",
    "\n",
    "# RetrievalQA 를 써서 \"가져오는 기계\" 만들기\n",
    "qa = RetrievalQA.from_chain_type(\n",
    "    llm=llm,\n",
    "    # chain_type=\"stuff\",\n",
    "    retriever=retriever,\n",
    "    return_source_documents=True)\n",
    "\n",
    "# 질문 정의하고 물어보기\n",
    "query = \"What are the benefits of cold showers\"\n",
    "result = qa({\"query\": query})\n",
    "\n",
    "pprint(result['result'])"
   ]
  },
  {
   "cell_type": "code",
   "execution_count": null,
   "metadata": {
    "colab": {
     "base_uri": "https://localhost:8080/"
    },
    "id": "9t1oajVkaDeL",
    "outputId": "4763c8e4-1889-43a9-b518-e6816bd6773f"
   },
   "outputs": [
    {
     "name": "stdout",
     "output_type": "stream",
     "text": [
      "('차가운 샤워에 대한 건강 효과에 대한 주장은 여전히 애매한 영역에 있습니다. 몇 가지 연구에서는 차가운 샤워가 면역 시스템을 강화하고 '\n",
      " '에너지를 증가시키며 기분을 좋게 할 수 있다고 주장합니다. 그러나 이 연구 결과는 확실하지 않고, 차가운 샤워의 효과를 완전히 입증하는 '\n",
      " '충분한 증거가 없습니다. 차가운 샤워가 몸에 해를 끼치지는 않을 것이지만, 이에 대한 더 많은 연구가 필요합니다.')\n"
     ]
    }
   ],
   "source": [
    "query = \"What are the benefits of cold showers? 한국말로 답해줘.\"\n",
    "result = qa({\"query\": query})\n",
    "\n",
    "pprint(result['result'])"
   ]
  },
  {
   "cell_type": "code",
   "execution_count": null,
   "metadata": {
    "colab": {
     "base_uri": "https://localhost:8080/"
    },
    "id": "I9klRzTyW5jY",
    "outputId": "e7de0b9f-5369-4c17-c95a-a242696b7fac"
   },
   "outputs": [
    {
     "name": "stdout",
     "output_type": "stream",
     "text": [
      "이 내용은 40대 취업자들의 고용 상황과 이에 대한 문제점을 다루고 있습니다. 로봇과 무인점포 같은 새로운 기술이 등장하면서 일자리가 줄어들고 있고, 특히 40대 층에서는 가족 부양 등의 부담이 있어서 어려움을 겪고 있다고 언급합니다. 이에 대해 전문가들은 산업구조 변화와 임금체계의 문제가 40대를 시장에서 밀어내고 있다고 지적하며, 직무와 성과 중심의 임금체계 개편과 노동시장 재진입이 수월하도록 제도 정비가 필요하다고 주장합니다. 또한, 신산업 관련 역량을 향상시킬 수 있는 직무 재교육 훈련 같은 부분에 대한 정책 지원이 필요하다고 말합니다.\n"
     ]
    }
   ],
   "source": [
    "# 로딩을 한국어로\n",
    "loader = YoutubeLoader.from_youtube_url(\"https://www.youtube.com/watch?v=4-cmJPA2Klg\", language='ko')\n",
    "documents = loader.load()\n",
    "\n",
    "# create the vectorestore to use as the index\n",
    "db = FAISS.from_documents(documents, embeddings)\n",
    "retriever = db.as_retriever()\n",
    "llm = ChatOpenAI(model_name=\"gpt-4\")\n",
    "\n",
    "qa = RetrievalQA.from_chain_type(\n",
    "    llm=llm,\n",
    "    chain_type=\"stuff\",\n",
    "    retriever=retriever,\n",
    "    return_source_documents=True)\n",
    "\n",
    "query = \"대강 무슨 내용이야?\"\n",
    "result = qa({\"query\": query})\n",
    "\n",
    "pprint(result['result'])"
   ]
  },
  {
   "cell_type": "code",
   "execution_count": null,
   "metadata": {
    "colab": {
     "base_uri": "https://localhost:8080/"
    },
    "id": "Tt9X6x9tRxMQ",
    "outputId": "630d3f0c-912e-4863-d60a-ad34aa7f25de"
   },
   "outputs": [
    {
     "name": "stdout",
     "output_type": "stream",
     "text": [
      "('이 내용은 40대 취업자들의 고용 상황과 이에 대한 문제점을 다루고 있습니다. 로봇과 무인점포 같은 새로운 기술이 등장하면서 일자리가 '\n",
      " '줄어들고 있고, 특히 40대 층에서는 가족 부양 등의 부담이 있어서 어려움을 겪고 있다고 언급합니다. 이에 대해 전문가들은 산업구조 '\n",
      " '변화와 임금체계의 문제가 40대를 시장에서 밀어내고 있다고 지적하며, 직무와 성과 중심의 임금체계 개편과 노동시장 재진입이 수월하도록 '\n",
      " '제도 정비가 필요하다고 주장합니다. 또한, 신산업 관련 역량을 향상시킬 수 있는 직무 재교육 훈련 같은 부분에 대한 정책 지원이 '\n",
      " '필요하다고 말합니다.')\n"
     ]
    }
   ],
   "source": [
    "pprint(result['result'])"
   ]
  },
  {
   "cell_type": "code",
   "execution_count": null,
   "metadata": {
    "id": "hop-kzvZaU5F"
   },
   "outputs": [],
   "source": [
    "# 자꾸 반복되는 코드를 함수로 만들기\n",
    "def ask_youtube(url, q, language='en'):\n",
    "  loader = YoutubeLoader.from_youtube_url(url, language=language)\n",
    "  documents = loader.load()\n",
    "\n",
    "  # create the vectorestore to use as the index\n",
    "  db = FAISS.from_documents(documents, embeddings)\n",
    "  retriever = db.as_retriever()\n",
    "  llm = ChatOpenAI(model_name=\"gpt-4-turbo-preview\")\n",
    "\n",
    "  qa = RetrievalQA.from_chain_type(\n",
    "      llm=llm,\n",
    "      chain_type=\"stuff\",\n",
    "      retriever=retriever,\n",
    "      return_source_documents=True)\n",
    "\n",
    "  return qa({\"query\": q})\n",
    "\n"
   ]
  },
  {
   "cell_type": "code",
   "execution_count": null,
   "metadata": {
    "colab": {
     "base_uri": "https://localhost:8080/"
    },
    "id": "A-QvKE7oaw1d",
    "outputId": "5a72c303-b33c-4d57-bce6-e8d26c6b7307"
   },
   "outputs": [
    {
     "name": "stdout",
     "output_type": "stream",
     "text": [
      "{'query': '그래서 인생이 망가지는 이유가 뭔데?',\n",
      " 'result': '인생이 망가지는 주된 이유는 과소비, 특히 주거비와 차량 유지비에 과도하게 지출하는 경향 때문입니다. 부자들의 '\n",
      "           '공통점으로는 자신의 수입에 비해 검소하게 생활하고, 부를 늘리기 위해 시간, 돈, 에너지를 쏟으며, 겉모습보다는 경제적 '\n",
      "           '자유에 집중하는 경향이 있다는 점을 강조합니다. 반면, 대다수의 사람들은 가진 것에 비해 과소비를 하며, 불을 늘리는 '\n",
      "           '데 시간, 돈, 에너지를 쓰지 않고, 겉모습에 치중하며, 경제적인 기회를 잡지 못하고, 부자가 되기 적합한 직업을 '\n",
      "           '가지지 않는 경향이 있습니다.\\n'\n",
      "           '\\n'\n",
      "           \"또한, '디드로 효과'를 통해 소비가 어떻게 눈덩이처럼 커질 수 있는지 설명합니다. 예를 들어, 자동차를 구매하면 그에 \"\n",
      "           '맞는 추가적인 소비가 발생하며, 이는 결국 개인의 재정 상태를 악화시키고 인생을 망가뜨릴 수 있습니다. 또한, '\n",
      "           '고급스러운 주거 환경을 추구하는 것도 비슷한 효과를 가져올 수 있으며, 이는 불필요한 소비로 이어져 경제적 부담을 '\n",
      "           '가중시킵니다.\\n'\n",
      "           '\\n'\n",
      "           '결국, 인생이 망가지는 이유는 부를 늘리는 데 필요한 노력을 하지 않고, 과소비와 겉모습에 치중하는 생활 방식 '\n",
      "           '때문입니다. 이러한 태도와 습관은 장기적으로 볼 때 경제적 자립과 성공을 어렵게 만듭니다.',\n",
      " 'source_documents': [Document(page_content='최근에 월요일 저녁마다이 마인드 관련된 영상들 하나씩 찍어서 올리고 있는데 오늘 할 얘기도 약간 마인드 관련된 얘기입니다 자동차가 내 인생을 망치는 이유에 대해서 한번 말을 해 보고 싶습니다이 이웃집 백만장자 변하지 않는 부해 법칙에 나왔던 얘기를 가지고 한번 풀어 보려고 하는데이 책에 이런 내용이 나옵니다 부자들의 공통점이라는게 있어요 뭐냐면 첫 번째 부에 비해서 검소하게 생활한다 두 번째 부를 늘리는데 시간 돈 에너지를 쏟는다 이게 되게 중요하죠 세 번째 겉모습보다는 경제적 자유에 좀 더 집중을 하는 경향이 있고 성인 자녀에게 경제적 지원을 하지 않는다 그 성인 자녀들이 자립적 성향을 가지고 있다 당연히 지원 안 하니까 자립적인 성향을 가지고 있겠죠 그리고 여섯 번째 돈 벌 기회가 있을 때 잡았다는 공통점이 있고 그리고 부자가 되기 적절한 직업을 가지고 있더라라는게이 책에서 정리한 부자들의 공통점 일곱 가지였습니다 근데 이런 얘기를 하잖아요 그러면 이제 항상 달리는 어떤 댓글이나 반응이 있어요 뭐냐면 당연한 얘기하고 있냐 당연한 얘기들 아닌가 돈 벌 기회를 잡았고 부자될 수 있는 직업을 가지고 있고 거기 돈을 버는데 애 에너지와 시간을 쏟는 건 당연한 거 아니냐라고 얘기를 하실 수가 있는데 사실 거꾸로 물어보면은 이게 당연한 얘긴데 왜 못 하냐라고 물어보면은 어 그러게요 제가 왜 못 하죠라고 슬그머니 꼬리를 내릴 수밖에 없습니다 무슨 소리냐 부자되는게 어려운게 내용이 어려운게 아니라 그걸 지켜 나가면서 꾸준히 그걸 해 나가는 그 노력이 그 의지와 그 실제로 시간 투자가 어려운 거죠 그러다 보니까 이게 실제이 일곱 가지의 공통점을 말하고 이거를 하면은 부자가 됩니다라고 말해도 지키는 사람은 그 무입니다 아마 우리 시청자분들 중에 저거를 지키는 분들은 거의 없을 것이다 반대로 우리가 잘 지키는 거 있습니다 바로 부자가 못 되는 공통점인 방금 말한 그 일곱 가지를 바꾸면 됩니다 뭐냐 우리가 잘하는 거 있죠 가진 것에 비해서 과소비하는 거 이거 우리가 진짜 잘하죠 그리고 불을 늘리는데 시간 돈 에너지를 안 씁니다 넷플릭스를 보거나 어떤 여행 계획을 세우거나 아니면 친구와 수다를 떨거나 주말에 어디 놀러 가는 거에는 시간을 많이 쓰시는데이 뭔가 부자가 되는데 뭔가 공부를 한다거나 뭐 거기다 돈을 막 투자를 한다거나 아니 여기에 내 온 신경을 다 쏟는 일들은 안 해요 그러니까 어떻게 됩니까 경제력이 나쁘죠 경제력이 나빠지는데 부자인 것처럼 보이고는 싶어 어 우리나라는 또 비교의 민족이기 때문에 그러다 보니까 어떻게 됩니까 겉보기에 치중을 많이 합니다 그래서 우리가 돈은 없어도 우리가 돈은 없지 가우가 없냐 하면서 항상 가오를 챙기는 사람들이 많죠 항상 이게 술을 먹고 나면은 내가 계산한다 하면서 막 지르는 사람들도 있고 남이 사는 꼴 못 본다 이렇게 말하면서 사실상 경제적으로 되게 힘들어하는 분들도 많습니다 거기다가 이것도 잘하죠 성인 자녀들이 있는 분들은 사실은 성인이라는 거는 알아서 어 스스로 해야 되는 건데 그게 잘 안 되죠 그러다 보니까 이제 꾸준히 지원을 해 줘요 아 우리 애가 좀 잘 됐으면 해 가지고 뭐 용돈도 주고 그리고 뭐 직업을 못 얻으면 어떻게든 뭐 좀 챙겨 주고 그리고 뭐 애가 뭐 자취를 한다 그래도 우리 부모님 우리 어머니들은 가만두질 못해 걱정돼 가지고 어떻게 합니까 어떻게든 가서 뭐 청소도 해주고 뭐 반찬도 해주고 어떻게든 챙겨 줘 그러니까 그렇게 잘한 자녀들이 어떻게 되죠 성인인데 의존적 성향을 가지고 있습니다 그래서 우리가 부자가 못 되는 공통점을 보면은 는 사실 어 우리가 되게 많이 하고 있는 것들이에요 거기다가 돈 벌 기회가 있을 때가 분명히 있거든요 근데 그 준비를 안 해요 그니까 2번을 안 하니까 당연히 6번이요 그러니까 준비가 안 돼 있으니까 뭐 합니까 항상 껄껄껄 만 하잖아요 그때 할 걸 막 그때 하지 말 걸 하면서 막 그런 준비가 안 돼 있다는 거를 스스로 인정하는 멘트들을 많이 합니다 거기다가 또 이런 것도 있죠 뭐 이런게 된 분들도 있는데 이게 고소득이 직업을 얻어라 아니라 부자가 되기 쉬운 직업이라는게 뭐냐면 안정적으로 꾸준히 뭔가 돈을 창출이 된다거나 아 연봉이 안정적으로 올라간다 다거나 이렇게 해서 내가이 시간을 투자한 거 대비 어쨌든 보상이 좀 들어오는 직업을 가지고 있어야 되는데 직장이 좀 부실하다 그나 아니면은 막 자영업을 하고 있어 가지고 매출이 막 들쑥날쑥 한다거나 하면서 무언가 부자가 될 준비를 하기가 좀 어려운 직업을 가지고 있는 분들도 많죠이 일곱 가지를 지키는게 훨씬 쉽고 우리가 아마 대부분 시청자 여러분들은 이걸 지키고 있을 겁니다 자이 책에서 나오는 얘기인데 오늘의 어제 보면 핵심 주제입니다이 디드로 효과라는게 있다고 합니다 디드로 효과가 뭐냐면이 철학자가 얘기를 한 건데 친구 친구가 어느 날 철학자이 디드로 테 빨간색 까운을 하나 줬다고 합니다 그러면서 이걸 한번 입어 봐 이쁘니까라고 한 거예요 그래서 이분이 마음에 들었나 봐 그래가지고 빨간색 가운을 딱 입고 집에 있다 보니까 어 잠깐만 우리 집에 빨간색이 없네 해서 하나씩 가구랑 카페트랑 이런 것들을 빨간 걸로 바꾸기 시작했다는 거야 그러다 보니까 어떻게 됐냐 빨간 가운이 하나가 우리 집에 들어왔을 뿐인데 모든 가구들을 다 바꿨다 그게 바로 디드로 효과입니다이 디드로 효과는 이렇게 정리할 수 있습니다 하나의 물건을 구입하니까 그의 어 떠올리는 또 다른 제품들을 계속 구매하는 현상을 말하는 건데 이게 우리 인생을 조금씩 갉아먹으면서 망치게 하는 그런 효과죠 자 자동차야 말로이 강력한 디드로우 효과를 보여줍니다 그래서 돈을 모으라고 하는 사람들 그리고 뭔가 투자를 하는 사람들 뭔가 재테크를 하는 사람들이 가능하면 자동차를 사지 말라고 말하는게 바로이 디드로 효과 때문인데이 자동차는 단순한 교통 수단이 아닙니다 그래서 처음에는 자동차를 그냥 어 저 어차피 뭐 출퇴근 하려고 사요라는 식으로 뭔가 단순하게 샀지만 절대 이렇게 끝나지 않는다 자동차를 사는 순간 더 이상 돌아갈 수 없는 몸이 돼 버립니다 자동차가 생기잖아요 그러면 그에 맞는 소비를 하게 됩니다 왜 나는 자동차가 있는 사람이니까 자동차에 걸맞는 소비를 할 수밖에 없다는 거죠 까운을 사서 어느 순간 모든 가구를 다 바꾸듯이 말이죠 차가 없을 때는 할 수 없었던 거를 하려고요 이게 사람의 어떤 본성입니다 어 나는 원래 차가 없었으니까 뭔가 차가 필요한 데를 안 가둔 사람이었죠 근데 차가 생겼어 그럼 어떻게 합니까 나는 차가 생겼으니까 차를 가지고 할 수 있는 거를 하려고 하는 거죠 그래서 뭘 하냐 기본적으로 나는 차가 없을 때는 원룸에 살아도 상관없었어 왜냐면 난 차가 없으니까 주차장이 필요가 없었죠 근데 내가 이제 차를 갖게 되면 어떻게 하죠 집을 고를 때 어 주차가 되는지를 따져보게 됩니다 그럼 주차가 된다는 건 뭐죠 차에 걸맞는 집이 필요한 거죠 그러니까 어느 순간 집을 조금 더 좋은 데를 살아야 돼 주차가 불편하면 아 왠지 짜증이나 차가 없었다면 하지 않을 소비나 하지 않을 사고적인 판단들을 하기 시작하는 거죠 거기다가 내가 주말에 어디 간다거나 아니면 휴가 있을 때 어떡하죠 원래 차가 없었잖아요 차가 없었기 때문에 차가 없어도 갈 수 있는 곳을 가려고 한다거나 차와 상관없는 어떤 선택들을 했었을 텐데 이제는 차가 있죠 그까 그에 걸 맞는 선택을 해야 됩니다 어떻게 하죠 차로만 갈 수 있는 곳을 가게 되죠 여행을 떠난다던 드라이브를 많이 간다든지 아니 뭐 요즘에 뭐 캠핑도 많이 하시니까 캠핑을 한다든지 등등 차로 인해서 내가 하지 않았던 소비율을 많이 하게 됩니다 자 그럼 이제 이런 반문을 하시는 분들도 있을 겁니다 아니 그러면 차를 샀는데 가만히 세워 두라는 얘기냐 차가 있으니까 차를 가지고 캠핑도 가고 하는 거죠 그게 오히려 싸게 먹힙니다 뭐 이런 생각들을 하시는 분들도 있는데 반대로 생각을 해 보세요 내가 가만히 세워둘 일이 많은 사람이라면 왜 샀냐 이거죠 내가 차를 매일매일 타야 되고이 차를 가지고 막 돈을 벌고 뭔가 뭐 진짜 뭐 포터에 배출을 싣고 다니면서 배추를 파는 사람이면 차가 필수품이 겠는데 그게 아닌 사람들이 훨씬 많거든요 그니까 가만히 세워둘 순 없잖아 그러니까 주말에 차를 좀 타야 됩니다 이런 그 선후가 바뀌는 사고 방식을 갖게 됐다면 나는 도대체 왜 산 걸까 어차피 세워놓을 거를 내가 왜 샀지라고 스스로에게 물어볼 필요가 있습니다 자 그럼 여기서 또 이런 얘기 하시는 분들이 있습니다 지방이라 차가 없으면 생활이 안 됩니다라고 말을 하시는 분들도 많은데 이것도 사실 틀린 얘기죠 왜 그러냐 지방이라고 해서 무조건 차가 필요한 거는 아닙니다 그렇지만 교통이 불편하기 때문에 차가 필요하다 인정할 수 있어요 그러면 중고 경찰을 사면 되는 거죠 어차피 나는 차가 필요한 거고 교통 수단이 필요한 건데 그럼 제일 싼 거 그것도 감가 성각 많이 된 중고를 사 가지고 이동만 하면 되는 거잖아요 근데 왜 비싼 차를 사냐 어 요런 댓글 달린 분이 있습니다 영상 보기가 무섭다 어 요즘에 제가 좀 약간 절약에 대한 얘기 마인드에 대한 얘기하니까 영상 보기가 무섭다 왜 신차를 사야 되니까 1년만 더 열심히 일해 가지고 신차를 사겠습니다 그래 제가 하트를 눌러 드렸습니다 그렇지만이 하트가 좋아요는 아니죠 열심히 하란 얘기입니다 왜 왜 신차를 사야 되는가 나는 교통 수단인데이 비싼 차는 더 문제입니다 뭐냐 차가 생김으로써 디드로 효과가 일어나는데 비싼 차는 추가적인 디드로 효과가 일어납니다 내가 경찰을 탈 때랑 그랜저를 탈 때랑 g 80을 탈 때랑 그의 걸 맞는 소비가 달라진다 이런 얘기하시는 분들도 있습니다 경차는 사고나면 큰일 난다 그러면이 말은 본질이 뭡니까 경차가 도시에서 사고가 난다고 큰 일이 나겠습니까 시속 30km 50km 달리는이 도시에서 맨날 막혀 가지고이 속도를 낼데도 없는데 사고가 나봐야 뭐 얼마나 크게 나겠습니까 근데 경찰을 사서 사고 나면 큰일 난다는 얘기를 하시는 분들은 대부분 교회로 나간다든지 뭔가 야외로 나갈 일들이 많다는 거죠 그걸 염두에 두고 지금 말을 하는 거죠 내가 서울 사는데 부산 가다가 사고 나면 어떡해요라는 거는 내가 부산을 가겠다는 의지의 표현 아닙니까 그러니까 이렇게 경찰을 좀 경시한다 거 자체가 내가 이걸 사 가지고 단순한 교통 수단보다는 취미 생활 겸 추가적인 소비를 하려고 하는 의지가 훨씬 더 강하다고 저는 생각을 합니다 자 아까 말했던 거 있죠 부을 만드는데 시간 에너지 돈 투자를 많이 해야 된다 이래야 부자가 되더라라는 그 공통점이 있다고 했는데 차를 사본 분들은 아실 겁니다 차를 사는 순간 이것과 멀어집니다 불을 만드는데 시간을 쓰기도 좀 어 점점 줄어들고요 에너지도 많이 뺏기고 그리고 돈도 다른데 이제 줄줄 세기 시작합니다 그럼 여기까지가 이제 차를 통해서 내가 예상보다 더 큰 소비를 하면서이 내 인생이 살짝씩 꼬여가는 거를 설명을 드렸는데 또 하나 또 하나의 강력한 소비가 있습니다 또 하나의 강력한 디드로 효과를 되는게 바로이 전 월세입니다이 전 월세를 사는 순간 디드로 효가가 발생하기 시작합니다 무슨 소리냐 아니 전월세는 살아야 되는 거 아닙니까 잘 한번 생각을 해 보세요이 매매는 자산을 매수하는 거죠 자산이 오를 수도 있고 빠질 수도 있습니다 그렇지만이 전월 세라는 건 뭐죠 임차 임차 철저하게 소비이 전세 월세를 사는 순간 무조건 소비가 일어난다이 전월세 산다고 해서 돈을 벌 방법은 없잖아요 그러면 이거를 단순화해 보면 차나 전세 집이나 똑같은 개념이다 자 제가 아까 차를 얘기를 할 때는 아 그래 맞아 저 카푸어 돈 뭐 월급 300에 안 되는데 막 그랜저를 사고 막 팰리세이드를 산단 말이야이 카푸어 뭐 이렇게 얘기하면서 찌찌찌 거리는 분들도 있으셨을 텐데이 분들한테 거꾸로 물어보면 돼요 아니 본인은 그러면은 죽어 전세 월세는 과연 본인에게 알맞게 절약해서 잘 얻었는가라고 물어보면은 어 그건 아닌데라고 생각하는 분들도 많을 겁니다 남욕 할 때가 아니라는 거죠 좋은 집에 사는 순간 걸맞는 소비를 하게 됩니다 왜 그러냐 이것도 사야 돼 그리고 이건 필수야 저건 없어 저것 없으면 큰일나 막 이런 것들이 막 생기는 거야 내가 작은 집 좀 나쁜 집에 살 때 들어가는 소비와 좋은 집 멋진 집에 살면 살수록 소비가 달라진다 어머 이건 꼭 사야 돼 뭐 이런 짤방 있죠 이것처럼이 집에 걸만 는 물건을 집어 넣어야만 끝납니다 그래서이 디드로 효과가 강력하게 일어나는 거죠 구글에서 자취집 꾸미기 뭐 자취방 꾸미기 하면은 이쁜 사진들이 많이 나옵니다 그래서이 요즘에는 이렇게 자기 집을 꾸미고 살고 싶어요라고 말하는 분들도 정말 많이 늘었어요 그리고 기왕 사는 거 자기 집 좀 이쁘게 해 놓고 남들한테 좀 이렇게 뭐 보여 줄 때 좋으면 얼마나 좀 괜찮을까라는 생각에 막 열심히 꾸미려고 하시는 분들도 많거든요 근데 저는 이렇게 말씀드리고 싶습니다 뭐냐 그냥 안 좋은 집에 살아라 왜 그러냐 꾸밀 마음이 안 된다 어 안 좋은 집에 살면은 꾸밀 마음이 안 들어요 그게 무슨 소리냐 내가 집을 꾸미려는 생각이 들었다 이거 자체가 이미 나는 과소비를 한 거라는 겁니다 어 왜 꾸미고 싶을까요 생각해 보세요 그러면이 집을 그냥 생활 공간이라고 생각을 안 하는 거죠 이건 나의 약간 라이프스타일을 좀 보여 주는 거고 난 여기서 시간을 많이 보내기 때문에 여기서 무언가를 좀 하면서 이왕 보내는 거 좀 멋지게 살고 싶어라고 생각이 든다는 거 자체가 나한테 과한 소이다 안 좋은 집에 살아라 그럼 꾸밀 마음이 들지 않는다 자 이런 댓글도 달리 입니다 현재를 너무 포기하고 사는 건 좀 아닌 거 같은데요 굳이 제가 그렇게까지 무리해 가면서 막 악착같이 살아 가지고 뭔 부기 영화를 누리겠다고 현재를 좀 즐기면서 살아도 되는 거 아닙니까라고 생각하시는 분들도 많을 겁니다 근데 저는 이렇게 말씀을 드리고 싶어요 뭐냐 내가 악착같이 포기하고 사는게 아니라는 거죠 기준이 틀렸다 현재에 우리가 생각하는 그 기준이 사실상 너무 과소비에 포커스가 맞춰져 있다는 겁니다 왜 그러냐 내가 지금 뭐 1년에 한번 여행을 한번 가야 되지 않나 그래도 그래도 차는 있어야 되지 않나 가끔씩 그래도 취미 생활은 해야 되지 않을까 그래도 집이라는게 어 화장실도 있고 방도 있고 당연히 좀 어느정도 좀 깔끔해야 되지 않나 그리고 이왕 집을 좀 살면서 좀 꾸미면 괜찮지 않을까 누굴 초대할 수도 있는 거 같은데라고 생각하는 그 기준들 자체가 사실은 좀 너무 과하다 아까도 말씀드렸죠이 부자가 못되는 공통점 가진 것에 비해서 너무 과소비를 하는 경향이 있습니다 우리가 생각하는 기준 자체를 많이 낮춰야 됩니다 거기다가 불을 늘리는데 시간도 에너지를 안 쓴다고 그랬잖아요 그리고 상대적으로 경제력이 늘어나지 않 많다 보니까 남한테 보여주기는 해야 될 거 같고 해서 과소비가 겉보기에 치중하는 걸로 이어집니다 1번을 했더니 2번이 되고 3번을 할 수밖에 없는 상황으로 가게 되는 거예요 제가 항상 말하지만 주거비 비율은 15% 정도로 생각하시면 됩니다 실수령 소득에서 주거비 비율입니다 그러니까 내가 예를 들어 월 300 정도 받는다 월 300이 어 12개월 평균 소득이다고 하면은 45만 원 정도 되는 거죠이 45만 원 이내에 전월세 이자랑 관리비를 막 나가야 된다 이게 저의 지론입니다 그리고이 정도 해야이 정도 해야 나머지를 한 15% 뭐 한 20 몇 % 쓰면서 저축을 그래도 한 60% 한 5 60% 정도는 할 수가 있습니다이 주거비 말고도이 현대인들은 쓸 돈이 많아요 그렇기 때문에 역설적으로 주거비를 극도로 낮춰야 되고요 당연히 교통비 차량 유지비도 교통비는 교통비도 최대한 낮춰야 되겠죠 그럼 어떻게 해야 됩니까 당연히 주거 환경을 많이 포기를 해야 된다 근데 많은 사람들이 이런 얘기를 합니다 아니 그 정도요 말도 안 되 소리 하지 마세요 제가 300 버는데 45만 원에 지금 서울에 월세 얻으려고 하잖아요 그러면 집이 너무 안 좋습니다 요즘에 고시원도 그 정도해요라고 말하는 분들도 많은데 저는 그 말하는 거 자체가 사실 한번 잘 한번 생각해 봐야 된다고 생각합니다 내가 돈을 더 못 번다면 어떡하겠습니까 거기 사는게 맞는 거죠 아니면 주거 환경을 조금 더 살리고 싶다면 또 외곽으로 나가는 거고요 서울에서 살면서 내가 소득의 한계가 있는데 여기서 주거까지 내가 챙기려고 하면은 나는 부자가 되기는 현실적으로 어려운 길을 가고 있는 겁니다 내가 무언가 포기할 건 포기를 해야 되는 거죠 그럼 이제 이런 얘기하시는 분들도 있을 것 같습니다 아니 그러면 언제까지 차도 안 사고 단칸방에서 막 고시원에서 살면서 그러다가 사람이 진짜 오히려 더 안 좋아진다 그러니까 나는 어느 정도는 좀 타협을 해야 되지 않겠습니까라고 말하시는 분들도 있는데 저는 이런 언제까지 차도 없이 단칸방에서 살아야 됩니까는이 한탄을 하는데 시간을 쓰지 마시고 아까 말한 거 있죠 부자가 되는데 부을 일구는데 시간과 에너지와 돈을 투자하자 그게 결국에 문제를 해결하는 본질이라고 생각을 합니다 한탄할 시간에 노력을 하는 거죠이 성공을 이룬 사람들은 모두 모두 희생을 했습니다 이게 다들 성공한 이후의 모습만 보기 때문에 저 사람이 되게 쉽게 왔다고 생각하고 그리고 저 사람은 운이 좋았다고 생각하지만이 성공을 한 사람들은 어떤 분야든지간에 희생이라는 거를 많이 했어요 그게 본인의 건강을 희생하는 사람들도 있고 본인의 시간을 희생하는 사람들도 있고 본인의 취미나 아니면 본인의 행복을 다 포기하고이 불을 일구는데 올인한 사람들도 많습니다 결국에 항상 말하는 이야기죠 지금의 고통이 있어야지만 미래가 바뀌는 것이고 지금 내가 고통스럽지 않다면 현재가 유지된다고 보시면 되는 거죠 그래서 지금 내가 고통스럽게 산다 아니면 내 조건이 점점 고통스럽게 나 스스로 몰아간다 이거를 슬퍼할게 아니라 아 미래가 바뀔 수 있는 확률이 높아지는 그나라 좋게 생각할 필요가 있습니다 그래서 남의 인스타 볼 시간에 내 통장 내역을 봐라 저는이 말을 하고 싶은데요 남의 인스타를 보면서 무언가 막 비교하고 한탄하고 이런 사람들이 많습니다 그리고 나도 저렇게 살아보고 싶다라고 그런 발에 많인 바람을 하시는 분들이 많은데 저는 그런 시간 아까 말한 이런 쓸데없는 시간을 내 부를 키우고 내가 부자가 되는데 조금 더 투자를 하시는게 내 인생을 바꾸는 길이다 내 통장 내역을 보세요 그러면은 남의 인스타 보기가 싫어질 겁니다 부자가 되는데 시간 에너지 돈을 투자하시는게 좋습니다 진짜 부자가 되면 그땐 써도 됩니다 그니까 진짜 부자라는 거는 상대적이기 하지만 아까 말한대로 내가 돈을 많이 벌면 그 15% 주거비에 쓸 수 있는 15% 점점 커지겠죠 그러면 그때서 내가 더 좋은 집에 가서 살면 됩니다 그러니까 내가 지금이 아끼고이 고통이 결국에는 나중에 더 큰 부로 돌아올 거라는 거를 믿고 거기에 시간을 쏟 드시면은 앞으로 선순환 구조가 인생의 선순환 구조가 일어나는데 그게 아니라 한탄하고이 퍼센트를 안 지키고 그냥 나는 300 벌지만 월세를 80 90짜리 살면서 내 인생은 왜 이럴까 하면서 남의 인스타를 보고 그리고 차도 하나 있어야 될 것 같으니까 차도 하나 사고 자치 집이니까 좀 이쁘게 꾸며야 될 것 같으니까 이쁘게도 좀 꾸며 놓고 요즘에 캠핑이 대사라고 하니까 차박도 한번 가면서 내인생 은 왜 안 바뀌지 도대체 이놈의 나라는 왜 이렇게 문제가 많을까라고 한탄한다 바뀌는 거는 아무것도 없다 내가 부자가 되면 그때는 소비를 늘릴 수가 있습니다 마지막으로이 부자들의 공통점을 다시 한번 보여 드리고 영상 마무리하겠습니다이 일곱 가지를 진심으로 지키고 살면은 인생이 바뀔 겁니다 그리고 이거와 다른 삶을 산다 그러면은 부자로 가는 길은 점점 더 멀어지고 있다라는 거를 꼭 명심하시고 앞으로 내가 어떻게 살지 스스로에게 한번 다짐하는 시간이 되셨으면 좋겠습니다 n', metadata={'source': 'JdpuWQaH5Eo'})]}\n"
     ]
    }
   ],
   "source": [
    "pprint(ask_youtube(\"https://www.youtube.com/watch?v=JdpuWQaH5Eo\", \"그래서 인생이 망가지는 이유가 뭔데?\", language=\"ko\"))"
   ]
  },
  {
   "cell_type": "code",
   "execution_count": null,
   "metadata": {
    "colab": {
     "base_uri": "https://localhost:8080/"
    },
    "id": "FNPgRZLOa98S",
    "outputId": "1534cadd-148a-4898-c59d-32e993a4a85f"
   },
   "outputs": [
    {
     "name": "stdout",
     "output_type": "stream",
     "text": [
      "{'query': '왜 CCP 가 비혼 여성을 싫어하는데?',\n",
      " 'result': '중국 공산당(CCP)은 비혼 여성을 싫어하는 것으로 보이는 주된 이유는, 이러한 경향이 중국의 인구 감소 문제를 '\n",
      "           '악화시키고 있다고 보기 때문입니다. 중국은 지난 몇 년간 출산율이 계속 감소하고 있으며, 이는 장기적으로 국가의 경제 '\n",
      "           '발전, 군사력 유지 및 사회 안정성에 큰 영향을 미칠 수 있습니다. CCP는 이 문제를 해결하기 위해 여성들이 더 많은 '\n",
      "           '아이를 낳도록 장려하려 하지만, 점점 더 많은 여성들이 결혼과 출산을 기피하고 있습니다. 이는 교육받은 여성들 사이에서 '\n",
      "           '경제적 불안정, 높은 청년 실업률 및 경제 침체 등의 이유로 ‘비혼주의’가 확산되고 있기 때문입니다.\\n'\n",
      "           '\\n'\n",
      "           '또한, 중국 공산당은 개인의 선택을 중요시하지 않고, 여성을 주로 출산의 도구로 보는 경향이 있습니다. 이는 과거 한 '\n",
      "           '자녀 정책 시절 강제 낙태 및 불임 수술에서부터 현재 출산을 장려하는 정책에 이르기까지 여성의 신체에 대한 국가의 '\n",
      "           '간섭을 드러냅니다. CCP는 인구 문제를 해결하기 위해 여성들에게 결혼과 출산을 강하게 권장하고 있으며, 이러한 정책은 '\n",
      "           '여성의 개인적인 선택과 자유를 제한하는 것으로 여겨집니다.\\n'\n",
      "           '\\n'\n",
      "           '결론적으로, CCP가 비혼 여성을 싫어하는 이유는 주로 국가의 인구 감소 문제를 해결하려는 시도와 여성에 대한 통제 '\n",
      "           '욕구 때문입니다. 이러한 태도는 여성의 개인적인 선택을 존중하기보다는 국가의 이익을 우선시하는 CCP의 접근 방식을 '\n",
      "           '반영합니다.',\n",
      " 'source_documents': [Document(page_content=\"Love—is not in the air! As China’s\\xa0\\neconomy sputters, fewer people are\\xa0\\xa0 getting married and having kids. But the Chinese\\xa0\\nCommunist Party doesn’t believe no means no.\\xa0 Welcome to China Uncensored, I’m Chris Chappell. More Chinese women are choosing to stay single. And stay tuned till the end\\xa0\\nbecause I’ll tell you how\\xa0 that could have devastating consequences\\xa0\\nfor the Chinese Communist Party. Now first of all I’m focusing on\\xa0\\nChinese women choosing to stay single, Because Chinese men don’t have a choice.\\nThere are 30 million more men than women in China. It’s particularly bad in rural areas. There’s almost 475 unmarried men\\xa0\\nfor every 100 unmarried women. The reason for this gender imbalance is because\\xa0\\nfor decades, China had a one child policy. Since\\xa0\\xa0 boys were preferred, that led to a huge amount\\xa0\\nof sex selective abortions. In other words,\\xa0\\xa0 since the Communist Party only allowed you\\xa0\\nto have one child, baby girls were killed,\\xa0\\xa0 so families could try again for a boy. Communism does wonderful things for a society. But why are *women* choosing to stay single?\\xa0\\nRather than just having their pick of the men? According to Reuters, “a growing number\\xa0\\nof educated women, facing unprecedented\\xa0\\xa0 insecurity amid record youth unemployment and an\\xa0\\neconomic downturn, are espousing ‘singleism.’” And the numbers are shocking. According to official data, in 2021 China’s single\\xa0\\npopulation over 15 years of age hit a record 239\\xa0\\xa0 million. Marriage registrations hit a historic low\\xa0\\nin 2022, only rebounding slightly after pandemic\\xa0\\xa0 lockdowns ended. And a 2021 Communist Youth League\\xa0\\nsurvey found 44% of women do not plan to marry Part of the problem is just how\\xa0\\nbad China’s economy has gotten. As China’s real estate sector, which\\xa0\\nmakes up a third of China’s GDP collapses, And youth unemployment hit record highs People are doing some crazy things just to get by. Some are choosing to be full time children, paid\\xa0\\nby their parents to do chores and live at home. Which might be more appealing than the search for\\xa0 Bedmates, which is where young\\xa0\\nChinese people literally have to\\xa0\\xa0 share a room and a bed with strangers just\\xa0\\nto afford to live in China’s megacities.\\xa0 So for many, marriage, and—what’s\\xa0\\nreally important to the Communist\\xa0\\xa0 Party—children, are just out of the picture. We’re seeing the singleism\\xa0\\ntrend on Chinese social media. Posts with the hashtags “No marriage, no\\xa0\\nchildren” from female influencers often in\\xa0\\xa0 their thirties or forties on Xiaohongshu, China’s\\xa0\\nInstagram, regularly gain thousands of likes.\\xa0 One anti-marriage forum on Douban, another\\xa0\\nsocial media platform, has 9,200 members,\\xa0\\xa0 while another dedicated to “singleism” has\\xa0\\xa0 3,600 members who discuss collective\\xa0\\nretirement plans, among other topics. Singleism is also tying into other\\xa0\\nsocial movements among Chinese youth.\\xa0 Like the lying flat movement. It was a popular hashtag on Chinese social\\xa0\\nmedia that basically encouraged young people\\xa0\\xa0 to give up on the intense struggle\\xa0\\nof Chinese society and just…lie flat. Or the Let it Rot movement.\\xa0 Which is like lying flat but\\xa0\\nwith an added level of cynicism. “‘Let it rot’ means to let things that\\xa0\\nare already beyond repair deteriorate.” Sounds like things are going great in China.\\xa0 One of these women who is choosing\\xa0\\nto stay single told Reuters,\\xa0\\xa0 “Many who got married in previous\\xa0\\ngenerations, especially women,\\xa0\\xa0 sacrificed themselves and their career\\xa0\\ndevelopment, and didn’t get the happy\\xa0\\xa0 life they were promised. Living my own\\xa0\\nlife well is difficult enough nowadays.” Another said, “I think it’s\\xa0\\nokay to date or cohabit,\\xa0\\xa0 but children are a huge asset\\xa0\\ninvestment with minimal returns.” Wow, can you imagine—a Communist\\xa0\\nsociety doesn’t value family. Another woman told the Wall Street\\xa0\\nJournal, “the demands of caring for\\xa0\\xa0 aging relatives and her job as an exhibition\\xa0\\ndesigner in Shenzhen leave no room for kids\\xa0\\xa0 or a husband. All she wants to do in her free\\xa0\\nmoments is read or scroll through pet videos.” Wow. Hashtag relatable. But while you might think the decision of whether\\xa0\\nor not to get married is just a matter of personal\\xa0\\xa0 choice, the Chinese Communist Party has a little\\xa0\\nless friendly attitude toward personal choice.\\xa0 I’ll tell you more after the break. Welcome back. So more and more Chinese women\\xa0\\nare choosing to stay single.\\xa0 But while you may see an individual\\xa0\\nwith individual choices, the Chinese\\xa0\\xa0 Communist Party sees a baby making factory.\\xa0 And production is falling behind. According to official numbers,\\xa0\\xa0 even after the end of the one-Child\\xa0\\npolicy, birth rates continued to drop. In 2012, there were 16 million births.\\xa0\\xa0 Just a decade later that number\\xa0\\nfell to less than 10 million. The Wall Street Journal says, “China is headed\\xa0\\ntoward a demographic collapse. China’s population,\\xa0\\xa0 now around 1.4 billion, is likely to drop\\xa0\\nto just around half a billion by 2100,\\xa0\\xa0 according to some projections.\\xa0\\nWomen are taking the blame.” The Party saw this coming—that’s why it ended the\\xa0\\nOne Child policy, first allowing people to have\\xa0\\xa0 two, then three kids. Yes, they still haven’t\\xa0\\ngiven up control, they just allow three kids. But so the Party prepared for a huge baby boom. But people didn’t bite.\\xa0 “New maternity wards were built\\xa0\\nonly to close a few years later.” “Sales of baby-care products, including\\xa0\\nformula and diapers, have dropped.” “Businesses that focused on\\xa0\\nbabies now target seniors.”\\xa0 New preschools built to make\\xa0\\nchild-rearing more affordable\\xa0\\xa0 struggle to fill classrooms and many have closed.” So this is a problem. But the solution is just a little bit of Communist\\xa0\\nParty intervention in people’s lives! I mean,\\xa0\\xa0 a decade ago they were forcing women to\\xa0\\nhave abortions and sterilizations. So\\xa0\\xa0 what’s wrong with doing a complete 180\\xa0\\nand encouraging a little baby making? Xi Jinping has been talking about the need to,\\xa0\\n“actively cultivate a new culture of marriage\\xa0\\xa0 and childbearing and strengthen guidance on young\\xa0\\npeople's view on marriage, childbirth and family.” You see young people might have the wrong views,\\xa0\\xa0 so they need the Communist Party to\\xa0\\nguide them to the right thinking. Chinese Premier Li Qiang has being talking\\xa0\\nabout, “working towards a birth-friendly society”\\xa0 Xi even gave a speech at the\\xa0\\nAll-China Women’s Federation,\\xa0\\xa0 the Chinese Communist Party’s\\xa0\\nofficial feminist organization.\\xa0 Yes. Let that sink in. According to an official print out of his speech Xi said told the feminist organization to\\xa0\\n“prevent and resolve risks in the women’s field.” What does that mean? Well according to Clyde\\xa0\\nYicheng Wang, an assistant professor of\\xa0\\xa0 politics at Washington and Lee University\\xa0\\nwho studies Chinese government propaganda “It’s clear that he was not\\xa0\\ntalking about risks faced by\\xa0\\xa0 women but considering women as a\\xa0\\nmajor threat to social stability.” That could be why the All-China Women’s\\xa0\\nFederation—again, China’s official feminist\\xa0\\xa0 organization—coined the term leftover women,\\xa0\\xa0 women who didn’t get married before\\xa0\\nthe age of 27 and now are too old Here’s something they wrote in March 2011,\\xa0\\nright after International Women’s Day: Pretty girls don’t need a lot of education\\xa0\\nto marry into a rich and powerful family,\\xa0\\xa0 but girls with an average or ugly appearance\\xa0\\nwill find it difficult. These kinds of girls\\xa0\\xa0 hope to further their education in order to\\xa0\\nincrease their competitiveness. The tragedy is,\\xa0\\xa0 they don’t realize that as women\\xa0\\nage, they are worth less and less,\\xa0\\xa0 so by the time they get their M.A. or Ph.D.,\\xa0\\nthey are already old, like yellowed pearls. CHINA’S OFFICIAL FEMINIST ORGANIZATION. But the Communist Party is\\xa0\\ntaking more direct action.\\xa0 For instance, government-organized\\xa0\\nmatchmaking events. And government\\xa0\\xa0 Valentine Day messages such\\xa0\\nas, “Wishing you sweet love\\xa0\\xa0 and marriage at an appropriate age.\\xa0\\nLet’s extend the Chinese bloodline.” If that doesn’t get you in the\\xa0\\nmood, I don’t know what will! Though people apparently\\xa0\\ndidn’t respond well to that. “The message drew a backlash on social\\xa0\\nmedia. ‘My mother-in-law doesn’t even\\xa0\\xa0 push me to have a second child,’\\xa0\\none person wrote. ‘I guess next,\\xa0\\xa0 arranged marriages will come\\xa0\\nback,’ another commented.” You know…I wouldn’t be surprised. Remember,\\xa0\\xa0 the CCP forced women to have\\xa0\\nabortions and sterilizations.\\xa0 We may already be seeing the beginning of that. “In 2021, the city of Luanzhou asked\\xa0\\nunmarried people to sign up for a\\xa0\\xa0 government-sponsored dating initiative that\\xa0\\nuses big data to find matches citywide.” If birthrates don’t go up, what do you\\xa0\\nthink the CCP will do with that data? Now as I mentioned earlier, people have\\xa0\\nbeen posting on Chinese social media\\xa0\\xa0 about singleism. And there’s\\xa0\\nalready a crackdown on that. The All-China Women’s Federation is\\xa0\\nactively preventing gender related\\xa0\\xa0 topics from going viral. In fact, they\\xa0\\n“paid more to a tech company to police\\xa0\\xa0 social-media comments than its\\xa0\\nbudget for women’s advocacy.” CHINA’S OFFICIAL FEMINIST ORGANIZATION. And China’s official internet watchdog\\xa0\\nis policing content that they say is,\\xa0\\xa0 “spreading wrong values…and spreading\\xa0\\nincorrect views on marriage and relationships,\\xa0\\xa0 and deliberately creating gender opposition.” Yes, by saying women have a choice\\xa0\\nin getting married and having kids. Again, keep in mind that just a few years ago,\\xa0\\nwomen having a second child had to run and\\xa0\\xa0 hide from the government lest they murder their\\xa0\\nchild and force the parents to pay huge fines.\\xa0 That would make me want to lie flat too The Chinese Communist Party would love to keep all\\xa0\\xa0 this underwraps. That’s why\\xa0\\nthey hate China Uncensored.\\xa0 They even wrote about me in state-run\\xa0\\nmedia, calling China Uncensored\\xa0\\xa0 “disgraceful anti-China garbage.”\\nBut with YouTube suppressing the show,\\xa0\\xa0 I can’t afford to keep making China Uncensored.\\xa0\\nMaking the show and paying my staff isn’t cheap,\\xa0\\xa0 and the CCP would love it if\\xa0\\nI had to shut down the show.\\xa0 That’s why I need your help. All it takes is a dollar or more an\\xa0\\nepisode on patreon.com/chinauncensored. I make about 16 episodes a month,\\xa0\\nbut if that’s too much for you, You can set a monthly limit. So you could ensure\\xa0\\xa0 I can keep uncensoring China\\xa0\\nfor even a dollar a month. And as a thank you to everyone who\\xa0\\ngives on Patreon, I’l answer one\\xa0\\xa0 of your questions at the end of these episodes. Today’s question comes from, long time supporter\\xa0\\nJames Wallberg “Chris, When the CCP falls will\\xa0\\xa0 you still dislike Panda's? Do think the new\\xa0\\ngovernment would continue Panda Politics? Ahh, now that’s a great question.\\xa0\\nSo I have a running gag on the show\\xa0\\xa0 that I hate pandas. But also secretly love them. That joke comes from how the Party has\\xa0\\nused pandas—what’s actually called Panda\\xa0\\xa0 diplomacy. China may lend out pandas to\\xa0\\nother countries—and they aren’t cheap “A zoo will have spent $10\\xa0\\nmillion renting one panda.” And if they have babies? “China charges a cub tax of\\xa0\\n$400,000. And those little\\xa0\\xa0 cuties have to be shipped back\\xa0\\nto China when they turn three.” But say a country does something the CCP doesn’t\\xa0\\nlike. Then the Party will take back those pandas.\\xa0 Like when China took back a US panda because\\xa0\\nthen President Obama met with the Dalai Lama. So what happens if the CCP falls? Will\\xa0\\nI begrudgingly admit I love pandas and\\xa0\\xa0 their stupid cute adorable little faces? Let me put it this way. If I can call\\xa0\\na panda a fellow American, you bet.\\xa0 But as long as that black and white coat covers\\xa0\\na dirty red, then you can forget about it. Thanks for your question and again, your long\\xa0\\ntime support James. I loved that question. Join James in making the CCP furious by\\xa0\\nsupporting China Uncensored on Patreon,\\xa0\\xa0 just click on that orange button. And if you didn’t know I have a new gaming\\xa0\\nchannel called Gamers Unbeaten. Check out\\xa0\\xa0 the latest episode, a tribute to Akira Toriyama\\xa0\\nand Dragon Ball. Let me know what you think.\\xa0\\xa0 Once again I’m Chris Chappell, see you next time.\", metadata={'source': '_uN0xp-5lBE'})]}\n"
     ]
    }
   ],
   "source": [
    "pprint(ask_youtube(\"https://www.youtube.com/watch?v=_uN0xp-5lBE\", \"왜 CCP 가 비혼 여성을 싫어하는데?\"))"
   ]
  },
  {
   "cell_type": "code",
   "execution_count": null,
   "metadata": {
    "colab": {
     "base_uri": "https://localhost:8080/"
    },
    "id": "fNNVsslVUaKQ",
    "outputId": "4eef49fe-56e7-48a8-a1d7-7b0dd6f8be16"
   },
   "outputs": [
    {
     "name": "stdout",
     "output_type": "stream",
     "text": [
      "\u001b[?25l     \u001b[90m━━━━━━━━━━━━━━━━━━━━━━━━━━━━━━━━━━━━━━━━\u001b[0m \u001b[32m0.0/290.4 kB\u001b[0m \u001b[31m?\u001b[0m eta \u001b[36m-:--:--\u001b[0m\r",
      "\u001b[2K     \u001b[91m━━━━\u001b[0m\u001b[90m╺\u001b[0m\u001b[90m━━━━━━━━━━━━━━━━━━━━━━━━━━━━━━━━━━━\u001b[0m \u001b[32m30.7/290.4 kB\u001b[0m \u001b[31m925.2 kB/s\u001b[0m eta \u001b[36m0:00:01\u001b[0m\r",
      "\u001b[2K     \u001b[91m━━━━━━━━━━━━━━━━\u001b[0m\u001b[91m╸\u001b[0m\u001b[90m━━━━━━━━━━━━━━━━━━━━━━━\u001b[0m \u001b[32m122.9/290.4 kB\u001b[0m \u001b[31m1.6 MB/s\u001b[0m eta \u001b[36m0:00:01\u001b[0m\r",
      "\u001b[2K     \u001b[91m━━━━━━━━━━━━━━━━━━━━━━━━━━━━━━━━━━━━━━━\u001b[0m\u001b[90m╺\u001b[0m \u001b[32m286.7/290.4 kB\u001b[0m \u001b[31m2.7 MB/s\u001b[0m eta \u001b[36m0:00:01\u001b[0m\r",
      "\u001b[2K     \u001b[90m━━━━━━━━━━━━━━━━━━━━━━━━━━━━━━━━━━━━━━━━\u001b[0m \u001b[32m290.4/290.4 kB\u001b[0m \u001b[31m2.4 MB/s\u001b[0m eta \u001b[36m0:00:00\u001b[0m\n",
      "\u001b[?25h"
     ]
    }
   ],
   "source": [
    "!pip install --quiet pypdf"
   ]
  },
  {
   "cell_type": "code",
   "execution_count": null,
   "metadata": {
    "colab": {
     "base_uri": "https://localhost:8080/"
    },
    "id": "B6T0irH9VK5_",
    "outputId": "8124b054-57c4-40d2-d5f6-8e30825f7d78"
   },
   "outputs": [
    {
     "name": "stdout",
     "output_type": "stream",
     "text": [
      "(\"I'm sorry, but the provided context does not include the abstract of the \"\n",
      " 'paper.')\n"
     ]
    }
   ],
   "source": [
    "from langchain_community.document_loaders import PyPDFLoader\n",
    "loader = PyPDFLoader(\"https://arxiv.org/pdf/2302.03803.pdf\")\n",
    "documents = loader.load()\n",
    "\n",
    "db = FAISS.from_documents(documents, embeddings)\n",
    "retriever = db.as_retriever()\n",
    "llm = ChatOpenAI(model_name=\"gpt-4\")\n",
    "\n",
    "qa = RetrievalQA.from_chain_type(\n",
    "    llm=llm,\n",
    "    chain_type=\"stuff\",\n",
    "    retriever=retriever,\n",
    "    return_source_documents=True)\n",
    "\n",
    "query = \"대강 무슨 내용이야? 초등학생도 이해할 수 있게 설명해줘\"\n",
    "result = qa({\"query\": query})\n",
    "\n",
    "pprint(result['result'])"
   ]
  },
  {
   "cell_type": "code",
   "execution_count": null,
   "metadata": {
    "id": "L7lJ6ai_UYMI"
   },
   "outputs": [],
   "source": []
  }
 ],
 "metadata": {
  "accelerator": "TPU",
  "colab": {
   "provenance": []
  },
  "kernelspec": {
   "display_name": "Python 3 (ipykernel)",
   "language": "python",
   "name": "python3"
  },
  "language_info": {
   "codemirror_mode": {
    "name": "ipython",
    "version": 3
   },
   "file_extension": ".py",
   "mimetype": "text/x-python",
   "name": "python",
   "nbconvert_exporter": "python",
   "pygments_lexer": "ipython3",
   "version": "3.11.5"
  }
 },
 "nbformat": 4,
 "nbformat_minor": 1
}
